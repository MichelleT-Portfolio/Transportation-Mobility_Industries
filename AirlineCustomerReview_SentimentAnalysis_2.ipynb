{
  "cells": [
    {
      "cell_type": "markdown",
      "metadata": {
        "id": "6EF1WVVbjzlP"
      },
      "source": [
        "<center><img src=\"https://images.pexels.com/photos/3769532/pexels-photo-3769532.jpeg?auto=compress&cs=tinysrgb&w=1260&h=750&dpr=2\" width=\"1300\" height=\"500\"></center>\n",
        "\n",
        "<b><h2><center> Airline Customer Review Sentiment Analysis </center></h2></b>"
      ]
    },
    {
      "cell_type": "markdown",
      "metadata": {
        "id": "MjncuDf2qugI"
      },
      "source": [
        "## Problem Statement"
      ]
    },
    {
      "cell_type": "markdown",
      "metadata": {
        "id": "x9VSf2D_F5iU"
      },
      "source": [
        "### Business Context"
      ]
    },
    {
      "cell_type": "markdown",
      "metadata": {
        "id": "dense-medicaid"
      },
      "source": [
        "In today's digital age, social media platforms like Twitter have become a prominent channel for customers to share their experiences and opinions, and the airline industry is no exception. Passengers frequently turn to Twitter to express their thoughts, feelings, and experiences related to their air travel. The ease of access and immediacy of social media has empowered customers to voice their opinions in real-time, making it a valuable source of feedback for airlines. The airline company recognized the immense value of these insights to understand customer sentiment and continuously enhance the travel experience.\n",
        "\n",
        "However, the airline company faces a significant challenge with the rise of negative feedback on social media. Negative sentiments expressed by customers become a crucial problem to solve as they can lead to several detrimental effects, including:\n",
        "\n",
        "1. Customer Churn: Unaddressed negative sentiment can lead to customer dissatisfaction and ultimately result in passengers choosing competitors for their future travel needs. This translates to a loss of loyal customers, impacting long-term revenue and market share.\n",
        "\n",
        "2. Reputation Damage: Persistent negative sentiment, if left unmanaged, can tarnish an airline's reputation, and influence potential passengers to avoid booking with the airline. A damaged reputation can have lasting consequences, affecting brand loyalty and trust.\n",
        "\n",
        "3. Financial Loss: Loss of revenue can occur if negative sentiment drives passengers away, impacting the airline's profitability and long-term success. Negative feedback can discourage potential passengers from making bookings with the airline, leading to direct financial repercussions"
      ]
    },
    {
      "cell_type": "markdown",
      "metadata": {
        "id": "lJ6qUJ3EqxW2"
      },
      "source": [
        "### Problem Definition"
      ]
    },
    {
      "cell_type": "markdown",
      "metadata": {
        "id": "RkjASpFDeR4m"
      },
      "source": [
        "The airline has noticed a trend as it grew - the amount of feedback coming through conventional channels (airline feedback forms, surveys, etc.) has reduced and customers have started sharing their feedback by tagging the airline's official social media handles. The volume of feedback being received on social media has significantly increased (~25%) over the past six months. In particular, the official Twitter handle of the airline saw a 50% increase in mentions. While they were initially tracking the social media feedback manually, the recent increase in volume has made it difficult to continue the same. This has prompted the airline to seek an AI-based solution to analyze the feedback provided by customers on social media. They believe that such a solution will be more effective than their current methods and provide insights that can proactively help them minimize revenue loss. As a first step, they want to start by assessing the feedback provided by customers on social media and categorizing the sentiment of the customer as negative, positive, or neutral.\n",
        "\n",
        "My role is to provide with the tweets shared by customers regarding their experience with the airline's services. The objective is to analyze the data and build a predictive model that can parse the customer reviews and predict the sentiment of the customer."
      ]
    },
    {
      "cell_type": "markdown",
      "metadata": {
        "id": "saFx1pbT_zTP"
      },
      "source": [
        "### Data Dictionary"
      ]
    },
    {
      "cell_type": "markdown",
      "metadata": {
        "id": "-xA7JZQ9_2SO"
      },
      "source": [
        "* tweet_id - A unique identifier for each tweet                                                          \n",
        "* airline_sentiment - The sentiment label of the tweet, such as positive, negative, or neutral                                               \n",
        "* airline_sentiment_confidence - The confidence level associated with the sentiment label                               \n",
        "* negativereason - A category indicating the reason for negative sentiment                                                   \n",
        "* negativereason_confidence - The confidence level associated with the negative reason                                    \n",
        "*airline - The airline associated with the tweet                                                                   \n",
        "* airline_sentiment_gold - Gold standard sentiment label                                               \n",
        "* name - The username of the tweet author    \n",
        "* retweet_count - The number of times the tweet has been retweeted\n",
        "* text - The actual text content of the tweet.\n",
        "* tweet_coord - Coordinates of the tweet\n",
        "* tweet_created - The timestamp when the tweet was created\n",
        "* tweet_location - The location mentioned in the tweet\n",
        "* user_timezone - The timezone of the tweet author"
      ]
    },
    {
      "cell_type": "markdown",
      "metadata": {
        "id": "tqfNqaJCQeEE"
      },
      "source": [
        "## Importing the necessary libraries"
      ]
    },
    {
      "cell_type": "code",
      "execution_count": null,
      "metadata": {
        "id": "f8oZoDPtXpyD"
      },
      "outputs": [],
      "source": [
        "# installing the libraries to load transformers models\n",
        "!pip install --quiet transformers"
      ]
    },
    {
      "cell_type": "code",
      "execution_count": null,
      "metadata": {
        "id": "_9UFK_HJTOsB"
      },
      "outputs": [],
      "source": [
        "# Import necessary libraries for data manipulation and analysis\n",
        "import pandas as pd\n",
        "import numpy as np\n",
        "\n",
        "# Import visualization libraries\n",
        "import seaborn as sns\n",
        "import matplotlib.pyplot as plt\n",
        "\n",
        "# Import modules from scikit-learn for machine learning tasks\n",
        "from sklearn.model_selection import train_test_split\n",
        "from sklearn.preprocessing import LabelEncoder\n",
        "from sklearn.metrics import confusion_matrix, f1_score, precision_score, recall_score, accuracy_score, classification_report\n",
        "\n",
        "# Import TensorFlow for deep learning tasks\n",
        "import tensorflow as tf\n",
        "\n",
        "# Import modules from the Hugging Face Transformers library\n",
        "from transformers import BertTokenizer, TFBertForSequenceClassification"
      ]
    },
    {
      "cell_type": "code",
      "source": [
        "# Set the seed for the TensorFlow random number generator to ensure reproducibility\n",
        "tf.random.set_seed(42)"
      ],
      "metadata": {
        "id": "7mK_GyxDZmUd"
      },
      "execution_count": null,
      "outputs": []
    },
    {
      "cell_type": "markdown",
      "metadata": {
        "id": "fantastic-rebel"
      },
      "source": [
        "## Loading the dataset"
      ]
    },
    {
      "cell_type": "code",
      "execution_count": null,
      "metadata": {
        "id": "hUtM4aB4PLTp",
        "colab": {
          "base_uri": "https://localhost:8080/"
        },
        "outputId": "beac8baa-2ae2-45c5-b6bc-e47123532ad9"
      },
      "outputs": [
        {
          "output_type": "stream",
          "name": "stdout",
          "text": [
            "Mounted at /content/drive\n"
          ]
        }
      ],
      "source": [
        "# mounting Google Drive\n",
        "from google.colab import drive\n",
        "drive.mount('/content/drive')"
      ]
    },
    {
      "cell_type": "code",
      "execution_count": null,
      "metadata": {
        "id": "D12dgRha8P4Z"
      },
      "outputs": [],
      "source": [
        "# loading the dataset\n",
        "df = pd.read_csv('/content/US_Airways.csv')"
      ]
    },
    {
      "cell_type": "code",
      "execution_count": null,
      "metadata": {
        "id": "JydHzsM391iy"
      },
      "outputs": [],
      "source": [
        "# creating a copy of the dataset\n",
        "data = df.copy()"
      ]
    },
    {
      "cell_type": "markdown",
      "metadata": {
        "id": "vvlzvKeqAH-i"
      },
      "source": [
        "## Data Overview"
      ]
    },
    {
      "cell_type": "markdown",
      "metadata": {
        "id": "cIH4md8nAL4v"
      },
      "source": [
        "### Checking the first five rows of the data"
      ]
    },
    {
      "cell_type": "code",
      "execution_count": null,
      "metadata": {
        "colab": {
          "base_uri": "https://localhost:8080/"
        },
        "id": "MKS-Z7GiCmWX",
        "outputId": "4c61535a-e636-4c5b-8441-fa30f97d39ff"
      },
      "outputs": [
        {
          "output_type": "execute_result",
          "data": {
            "text/plain": [
              "             tweet_id airline_sentiment  airline_sentiment_confidence  \\\n",
              "0  570310600460525568          negative                        0.6292   \n",
              "1  570310144459972608          negative                        1.0000   \n",
              "2  570309340952993796           neutral                        1.0000   \n",
              "3  570309000279023616           neutral                        1.0000   \n",
              "4  570308799950692353          negative                        1.0000   \n",
              "\n",
              "            negativereason  negativereason_confidence     airline  \\\n",
              "0  Flight Booking Problems                     0.3146  US Airways   \n",
              "1   Customer Service Issue                     1.0000  US Airways   \n",
              "2                      NaN                        NaN  US Airways   \n",
              "3                      NaN                        NaN  US Airways   \n",
              "4   Customer Service Issue                     0.6452  US Airways   \n",
              "\n",
              "  airline_sentiment_gold             name negativereason_gold  retweet_count  \\\n",
              "0                    NaN        jhazelnut                 NaN              0   \n",
              "1                    NaN         GAKotsch                 NaN              0   \n",
              "2                    NaN    DebbiMcGinnis                 NaN              0   \n",
              "3                    NaN  AshleyKAtherton                 NaN              0   \n",
              "4                    NaN    retardedlarry                 NaN              0   \n",
              "\n",
              "                                                text tweet_coord  \\\n",
              "0  @USAirways  is there a better time to call? My...         NaN   \n",
              "1  @USAirways and when will one of these agents b...         NaN   \n",
              "2  @USAirways is a DM possible if you aren't foll...         NaN   \n",
              "3  @USAirways Fortunately you have staff like Lyn...         NaN   \n",
              "4  @USAirways just hung up on me again.  Another ...         NaN   \n",
              "\n",
              "               tweet_created tweet_location               user_timezone  \n",
              "0  2015-02-24 11:53:37 -0800            NaN                         NaN  \n",
              "1  2015-02-24 11:51:48 -0800            NaN      Atlantic Time (Canada)  \n",
              "2  2015-02-24 11:48:37 -0800      Missourah                      Hawaii  \n",
              "3  2015-02-24 11:47:16 -0800            NaN  Central Time (US & Canada)  \n",
              "4  2015-02-24 11:46:28 -0800            NaN                         NaN  "
            ],
            "text/html": [
              "\n",
              "  <div id=\"df-3d88d629-955f-46be-8b8c-6443274f78d2\" class=\"colab-df-container\">\n",
              "    <div>\n",
              "<style scoped>\n",
              "    .dataframe tbody tr th:only-of-type {\n",
              "        vertical-align: middle;\n",
              "    }\n",
              "\n",
              "    .dataframe tbody tr th {\n",
              "        vertical-align: top;\n",
              "    }\n",
              "\n",
              "    .dataframe thead th {\n",
              "        text-align: right;\n",
              "    }\n",
              "</style>\n",
              "<table border=\"1\" class=\"dataframe\">\n",
              "  <thead>\n",
              "    <tr style=\"text-align: right;\">\n",
              "      <th></th>\n",
              "      <th>tweet_id</th>\n",
              "      <th>airline_sentiment</th>\n",
              "      <th>airline_sentiment_confidence</th>\n",
              "      <th>negativereason</th>\n",
              "      <th>negativereason_confidence</th>\n",
              "      <th>airline</th>\n",
              "      <th>airline_sentiment_gold</th>\n",
              "      <th>name</th>\n",
              "      <th>negativereason_gold</th>\n",
              "      <th>retweet_count</th>\n",
              "      <th>text</th>\n",
              "      <th>tweet_coord</th>\n",
              "      <th>tweet_created</th>\n",
              "      <th>tweet_location</th>\n",
              "      <th>user_timezone</th>\n",
              "    </tr>\n",
              "  </thead>\n",
              "  <tbody>\n",
              "    <tr>\n",
              "      <th>0</th>\n",
              "      <td>570310600460525568</td>\n",
              "      <td>negative</td>\n",
              "      <td>0.6292</td>\n",
              "      <td>Flight Booking Problems</td>\n",
              "      <td>0.3146</td>\n",
              "      <td>US Airways</td>\n",
              "      <td>NaN</td>\n",
              "      <td>jhazelnut</td>\n",
              "      <td>NaN</td>\n",
              "      <td>0</td>\n",
              "      <td>@USAirways  is there a better time to call? My...</td>\n",
              "      <td>NaN</td>\n",
              "      <td>2015-02-24 11:53:37 -0800</td>\n",
              "      <td>NaN</td>\n",
              "      <td>NaN</td>\n",
              "    </tr>\n",
              "    <tr>\n",
              "      <th>1</th>\n",
              "      <td>570310144459972608</td>\n",
              "      <td>negative</td>\n",
              "      <td>1.0000</td>\n",
              "      <td>Customer Service Issue</td>\n",
              "      <td>1.0000</td>\n",
              "      <td>US Airways</td>\n",
              "      <td>NaN</td>\n",
              "      <td>GAKotsch</td>\n",
              "      <td>NaN</td>\n",
              "      <td>0</td>\n",
              "      <td>@USAirways and when will one of these agents b...</td>\n",
              "      <td>NaN</td>\n",
              "      <td>2015-02-24 11:51:48 -0800</td>\n",
              "      <td>NaN</td>\n",
              "      <td>Atlantic Time (Canada)</td>\n",
              "    </tr>\n",
              "    <tr>\n",
              "      <th>2</th>\n",
              "      <td>570309340952993796</td>\n",
              "      <td>neutral</td>\n",
              "      <td>1.0000</td>\n",
              "      <td>NaN</td>\n",
              "      <td>NaN</td>\n",
              "      <td>US Airways</td>\n",
              "      <td>NaN</td>\n",
              "      <td>DebbiMcGinnis</td>\n",
              "      <td>NaN</td>\n",
              "      <td>0</td>\n",
              "      <td>@USAirways is a DM possible if you aren't foll...</td>\n",
              "      <td>NaN</td>\n",
              "      <td>2015-02-24 11:48:37 -0800</td>\n",
              "      <td>Missourah</td>\n",
              "      <td>Hawaii</td>\n",
              "    </tr>\n",
              "    <tr>\n",
              "      <th>3</th>\n",
              "      <td>570309000279023616</td>\n",
              "      <td>neutral</td>\n",
              "      <td>1.0000</td>\n",
              "      <td>NaN</td>\n",
              "      <td>NaN</td>\n",
              "      <td>US Airways</td>\n",
              "      <td>NaN</td>\n",
              "      <td>AshleyKAtherton</td>\n",
              "      <td>NaN</td>\n",
              "      <td>0</td>\n",
              "      <td>@USAirways Fortunately you have staff like Lyn...</td>\n",
              "      <td>NaN</td>\n",
              "      <td>2015-02-24 11:47:16 -0800</td>\n",
              "      <td>NaN</td>\n",
              "      <td>Central Time (US &amp; Canada)</td>\n",
              "    </tr>\n",
              "    <tr>\n",
              "      <th>4</th>\n",
              "      <td>570308799950692353</td>\n",
              "      <td>negative</td>\n",
              "      <td>1.0000</td>\n",
              "      <td>Customer Service Issue</td>\n",
              "      <td>0.6452</td>\n",
              "      <td>US Airways</td>\n",
              "      <td>NaN</td>\n",
              "      <td>retardedlarry</td>\n",
              "      <td>NaN</td>\n",
              "      <td>0</td>\n",
              "      <td>@USAirways just hung up on me again.  Another ...</td>\n",
              "      <td>NaN</td>\n",
              "      <td>2015-02-24 11:46:28 -0800</td>\n",
              "      <td>NaN</td>\n",
              "      <td>NaN</td>\n",
              "    </tr>\n",
              "  </tbody>\n",
              "</table>\n",
              "</div>\n",
              "    <div class=\"colab-df-buttons\">\n",
              "\n",
              "  <div class=\"colab-df-container\">\n",
              "    <button class=\"colab-df-convert\" onclick=\"convertToInteractive('df-3d88d629-955f-46be-8b8c-6443274f78d2')\"\n",
              "            title=\"Convert this dataframe to an interactive table.\"\n",
              "            style=\"display:none;\">\n",
              "\n",
              "  <svg xmlns=\"http://www.w3.org/2000/svg\" height=\"24px\" viewBox=\"0 -960 960 960\">\n",
              "    <path d=\"M120-120v-720h720v720H120Zm60-500h600v-160H180v160Zm220 220h160v-160H400v160Zm0 220h160v-160H400v160ZM180-400h160v-160H180v160Zm440 0h160v-160H620v160ZM180-180h160v-160H180v160Zm440 0h160v-160H620v160Z\"/>\n",
              "  </svg>\n",
              "    </button>\n",
              "\n",
              "  <style>\n",
              "    .colab-df-container {\n",
              "      display:flex;\n",
              "      gap: 12px;\n",
              "    }\n",
              "\n",
              "    .colab-df-convert {\n",
              "      background-color: #E8F0FE;\n",
              "      border: none;\n",
              "      border-radius: 50%;\n",
              "      cursor: pointer;\n",
              "      display: none;\n",
              "      fill: #1967D2;\n",
              "      height: 32px;\n",
              "      padding: 0 0 0 0;\n",
              "      width: 32px;\n",
              "    }\n",
              "\n",
              "    .colab-df-convert:hover {\n",
              "      background-color: #E2EBFA;\n",
              "      box-shadow: 0px 1px 2px rgba(60, 64, 67, 0.3), 0px 1px 3px 1px rgba(60, 64, 67, 0.15);\n",
              "      fill: #174EA6;\n",
              "    }\n",
              "\n",
              "    .colab-df-buttons div {\n",
              "      margin-bottom: 4px;\n",
              "    }\n",
              "\n",
              "    [theme=dark] .colab-df-convert {\n",
              "      background-color: #3B4455;\n",
              "      fill: #D2E3FC;\n",
              "    }\n",
              "\n",
              "    [theme=dark] .colab-df-convert:hover {\n",
              "      background-color: #434B5C;\n",
              "      box-shadow: 0px 1px 3px 1px rgba(0, 0, 0, 0.15);\n",
              "      filter: drop-shadow(0px 1px 2px rgba(0, 0, 0, 0.3));\n",
              "      fill: #FFFFFF;\n",
              "    }\n",
              "  </style>\n",
              "\n",
              "    <script>\n",
              "      const buttonEl =\n",
              "        document.querySelector('#df-3d88d629-955f-46be-8b8c-6443274f78d2 button.colab-df-convert');\n",
              "      buttonEl.style.display =\n",
              "        google.colab.kernel.accessAllowed ? 'block' : 'none';\n",
              "\n",
              "      async function convertToInteractive(key) {\n",
              "        const element = document.querySelector('#df-3d88d629-955f-46be-8b8c-6443274f78d2');\n",
              "        const dataTable =\n",
              "          await google.colab.kernel.invokeFunction('convertToInteractive',\n",
              "                                                    [key], {});\n",
              "        if (!dataTable) return;\n",
              "\n",
              "        const docLinkHtml = 'Like what you see? Visit the ' +\n",
              "          '<a target=\"_blank\" href=https://colab.research.google.com/notebooks/data_table.ipynb>data table notebook</a>'\n",
              "          + ' to learn more about interactive tables.';\n",
              "        element.innerHTML = '';\n",
              "        dataTable['output_type'] = 'display_data';\n",
              "        await google.colab.output.renderOutput(dataTable, element);\n",
              "        const docLink = document.createElement('div');\n",
              "        docLink.innerHTML = docLinkHtml;\n",
              "        element.appendChild(docLink);\n",
              "      }\n",
              "    </script>\n",
              "  </div>\n",
              "\n",
              "\n",
              "<div id=\"df-246d09f6-f41a-4f84-bd31-3b961eb964f6\">\n",
              "  <button class=\"colab-df-quickchart\" onclick=\"quickchart('df-246d09f6-f41a-4f84-bd31-3b961eb964f6')\"\n",
              "            title=\"Suggest charts\"\n",
              "            style=\"display:none;\">\n",
              "\n",
              "<svg xmlns=\"http://www.w3.org/2000/svg\" height=\"24px\"viewBox=\"0 0 24 24\"\n",
              "     width=\"24px\">\n",
              "    <g>\n",
              "        <path d=\"M19 3H5c-1.1 0-2 .9-2 2v14c0 1.1.9 2 2 2h14c1.1 0 2-.9 2-2V5c0-1.1-.9-2-2-2zM9 17H7v-7h2v7zm4 0h-2V7h2v10zm4 0h-2v-4h2v4z\"/>\n",
              "    </g>\n",
              "</svg>\n",
              "  </button>\n",
              "\n",
              "<style>\n",
              "  .colab-df-quickchart {\n",
              "      --bg-color: #E8F0FE;\n",
              "      --fill-color: #1967D2;\n",
              "      --hover-bg-color: #E2EBFA;\n",
              "      --hover-fill-color: #174EA6;\n",
              "      --disabled-fill-color: #AAA;\n",
              "      --disabled-bg-color: #DDD;\n",
              "  }\n",
              "\n",
              "  [theme=dark] .colab-df-quickchart {\n",
              "      --bg-color: #3B4455;\n",
              "      --fill-color: #D2E3FC;\n",
              "      --hover-bg-color: #434B5C;\n",
              "      --hover-fill-color: #FFFFFF;\n",
              "      --disabled-bg-color: #3B4455;\n",
              "      --disabled-fill-color: #666;\n",
              "  }\n",
              "\n",
              "  .colab-df-quickchart {\n",
              "    background-color: var(--bg-color);\n",
              "    border: none;\n",
              "    border-radius: 50%;\n",
              "    cursor: pointer;\n",
              "    display: none;\n",
              "    fill: var(--fill-color);\n",
              "    height: 32px;\n",
              "    padding: 0;\n",
              "    width: 32px;\n",
              "  }\n",
              "\n",
              "  .colab-df-quickchart:hover {\n",
              "    background-color: var(--hover-bg-color);\n",
              "    box-shadow: 0 1px 2px rgba(60, 64, 67, 0.3), 0 1px 3px 1px rgba(60, 64, 67, 0.15);\n",
              "    fill: var(--button-hover-fill-color);\n",
              "  }\n",
              "\n",
              "  .colab-df-quickchart-complete:disabled,\n",
              "  .colab-df-quickchart-complete:disabled:hover {\n",
              "    background-color: var(--disabled-bg-color);\n",
              "    fill: var(--disabled-fill-color);\n",
              "    box-shadow: none;\n",
              "  }\n",
              "\n",
              "  .colab-df-spinner {\n",
              "    border: 2px solid var(--fill-color);\n",
              "    border-color: transparent;\n",
              "    border-bottom-color: var(--fill-color);\n",
              "    animation:\n",
              "      spin 1s steps(1) infinite;\n",
              "  }\n",
              "\n",
              "  @keyframes spin {\n",
              "    0% {\n",
              "      border-color: transparent;\n",
              "      border-bottom-color: var(--fill-color);\n",
              "      border-left-color: var(--fill-color);\n",
              "    }\n",
              "    20% {\n",
              "      border-color: transparent;\n",
              "      border-left-color: var(--fill-color);\n",
              "      border-top-color: var(--fill-color);\n",
              "    }\n",
              "    30% {\n",
              "      border-color: transparent;\n",
              "      border-left-color: var(--fill-color);\n",
              "      border-top-color: var(--fill-color);\n",
              "      border-right-color: var(--fill-color);\n",
              "    }\n",
              "    40% {\n",
              "      border-color: transparent;\n",
              "      border-right-color: var(--fill-color);\n",
              "      border-top-color: var(--fill-color);\n",
              "    }\n",
              "    60% {\n",
              "      border-color: transparent;\n",
              "      border-right-color: var(--fill-color);\n",
              "    }\n",
              "    80% {\n",
              "      border-color: transparent;\n",
              "      border-right-color: var(--fill-color);\n",
              "      border-bottom-color: var(--fill-color);\n",
              "    }\n",
              "    90% {\n",
              "      border-color: transparent;\n",
              "      border-bottom-color: var(--fill-color);\n",
              "    }\n",
              "  }\n",
              "</style>\n",
              "\n",
              "  <script>\n",
              "    async function quickchart(key) {\n",
              "      const quickchartButtonEl =\n",
              "        document.querySelector('#' + key + ' button');\n",
              "      quickchartButtonEl.disabled = true;  // To prevent multiple clicks.\n",
              "      quickchartButtonEl.classList.add('colab-df-spinner');\n",
              "      try {\n",
              "        const charts = await google.colab.kernel.invokeFunction(\n",
              "            'suggestCharts', [key], {});\n",
              "      } catch (error) {\n",
              "        console.error('Error during call to suggestCharts:', error);\n",
              "      }\n",
              "      quickchartButtonEl.classList.remove('colab-df-spinner');\n",
              "      quickchartButtonEl.classList.add('colab-df-quickchart-complete');\n",
              "    }\n",
              "    (() => {\n",
              "      let quickchartButtonEl =\n",
              "        document.querySelector('#df-246d09f6-f41a-4f84-bd31-3b961eb964f6 button');\n",
              "      quickchartButtonEl.style.display =\n",
              "        google.colab.kernel.accessAllowed ? 'block' : 'none';\n",
              "    })();\n",
              "  </script>\n",
              "</div>\n",
              "    </div>\n",
              "  </div>\n"
            ]
          },
          "metadata": {},
          "execution_count": 8
        }
      ],
      "source": [
        "# Print first 5 rows of data\n",
        "data.head()"
      ]
    },
    {
      "cell_type": "code",
      "execution_count": null,
      "metadata": {
        "colab": {
          "base_uri": "https://localhost:8080/"
        },
        "id": "tTh2uQdWwY9-",
        "outputId": "bb0cf319-0509-439c-ec1e-53d5511591d9"
      },
      "outputs": [
        {
          "output_type": "execute_result",
          "data": {
            "text/plain": [
              "'@USAirways Fortunately you have staff like Lynn S. and DeeDee who actually understand customer service and simply being NICE.'"
            ],
            "application/vnd.google.colaboratory.intrinsic+json": {
              "type": "string"
            }
          },
          "metadata": {},
          "execution_count": 9
        }
      ],
      "source": [
        "# checking a customer review\n",
        "data['text'][3]"
      ]
    },
    {
      "cell_type": "markdown",
      "metadata": {
        "id": "NuWYF7W_AQx_"
      },
      "source": [
        "### Checking the shape of the dataset"
      ]
    },
    {
      "cell_type": "code",
      "execution_count": null,
      "metadata": {
        "colab": {
          "base_uri": "https://localhost:8080/"
        },
        "id": "7DysT_j1Cky-",
        "outputId": "1ced2909-4f0b-40a6-907b-469871da285d"
      },
      "outputs": [
        {
          "output_type": "execute_result",
          "data": {
            "text/plain": [
              "(2913, 15)"
            ]
          },
          "metadata": {},
          "execution_count": 10
        }
      ],
      "source": [
        "# print shape of data\n",
        "data.shape"
      ]
    },
    {
      "cell_type": "markdown",
      "metadata": {
        "id": "1m9Eku_JUDaS"
      },
      "source": [
        "* The data comprises of ~3k customer reviews"
      ]
    },
    {
      "cell_type": "markdown",
      "metadata": {
        "id": "EBuO6NvsAT1k"
      },
      "source": [
        "### Checking for Missing Values"
      ]
    },
    {
      "cell_type": "code",
      "execution_count": null,
      "metadata": {
        "colab": {
          "base_uri": "https://localhost:8080/"
        },
        "id": "RjFc0JaDCn1u",
        "outputId": "9184f614-4f49-4a10-a1cd-669f071fc6d9"
      },
      "outputs": [
        {
          "output_type": "execute_result",
          "data": {
            "text/plain": [
              "tweet_id                           0\n",
              "airline_sentiment                  0\n",
              "airline_sentiment_confidence       0\n",
              "negativereason                   650\n",
              "negativereason_confidence        443\n",
              "airline                            0\n",
              "airline_sentiment_gold          2910\n",
              "name                               0\n",
              "negativereason_gold             2911\n",
              "retweet_count                      0\n",
              "text                               0\n",
              "tweet_coord                     2763\n",
              "tweet_created                      0\n",
              "tweet_location                  1069\n",
              "user_timezone                   1062\n",
              "dtype: int64"
            ]
          },
          "metadata": {},
          "execution_count": 11
        }
      ],
      "source": [
        "# Check for NULL values\n",
        "data.isnull().sum(axis=0)"
      ]
    },
    {
      "cell_type": "markdown",
      "metadata": {
        "id": "a9JV6etiY0g9"
      },
      "source": [
        "In this dataset, the main focus is on two columns, namely 'content' and 'sentiment.' Fortunately, these columns do not contain any missing values. As a result, there is no need to address missing values in other columns."
      ]
    },
    {
      "cell_type": "markdown",
      "metadata": {
        "id": "lIICk5hF_xW7"
      },
      "source": [
        "### Checking the statistical summary"
      ]
    },
    {
      "cell_type": "code",
      "execution_count": null,
      "metadata": {
        "colab": {
          "base_uri": "https://localhost:8080/"
        },
        "id": "axfenFhn_0y1",
        "outputId": "4efcc5ab-f469-45de-e085-45e5ea857812"
      },
      "outputs": [
        {
          "output_type": "execute_result",
          "data": {
            "text/plain": [
              "           tweet_id  airline_sentiment_confidence  negativereason_confidence  \\\n",
              "count  2.913000e+03                   2913.000000                2470.000000   \n",
              "mean   5.691208e+17                      0.921578                   0.687172   \n",
              "std    7.676358e+14                      0.149996                   0.307860   \n",
              "min    5.676433e+17                      0.340000                   0.000000   \n",
              "25%    5.684797e+17                      1.000000                   0.622350   \n",
              "50%    5.693176e+17                      1.000000                   0.677700   \n",
              "75%    5.697157e+17                      1.000000                   1.000000   \n",
              "max    5.703106e+17                      1.000000                   1.000000   \n",
              "\n",
              "       retweet_count  \n",
              "count    2913.000000  \n",
              "mean        0.085479  \n",
              "std         1.172269  \n",
              "min         0.000000  \n",
              "25%         0.000000  \n",
              "50%         0.000000  \n",
              "75%         0.000000  \n",
              "max        44.000000  "
            ],
            "text/html": [
              "\n",
              "  <div id=\"df-5ca2bf1e-2704-47de-98a5-d4c8c1c6f617\" class=\"colab-df-container\">\n",
              "    <div>\n",
              "<style scoped>\n",
              "    .dataframe tbody tr th:only-of-type {\n",
              "        vertical-align: middle;\n",
              "    }\n",
              "\n",
              "    .dataframe tbody tr th {\n",
              "        vertical-align: top;\n",
              "    }\n",
              "\n",
              "    .dataframe thead th {\n",
              "        text-align: right;\n",
              "    }\n",
              "</style>\n",
              "<table border=\"1\" class=\"dataframe\">\n",
              "  <thead>\n",
              "    <tr style=\"text-align: right;\">\n",
              "      <th></th>\n",
              "      <th>tweet_id</th>\n",
              "      <th>airline_sentiment_confidence</th>\n",
              "      <th>negativereason_confidence</th>\n",
              "      <th>retweet_count</th>\n",
              "    </tr>\n",
              "  </thead>\n",
              "  <tbody>\n",
              "    <tr>\n",
              "      <th>count</th>\n",
              "      <td>2.913000e+03</td>\n",
              "      <td>2913.000000</td>\n",
              "      <td>2470.000000</td>\n",
              "      <td>2913.000000</td>\n",
              "    </tr>\n",
              "    <tr>\n",
              "      <th>mean</th>\n",
              "      <td>5.691208e+17</td>\n",
              "      <td>0.921578</td>\n",
              "      <td>0.687172</td>\n",
              "      <td>0.085479</td>\n",
              "    </tr>\n",
              "    <tr>\n",
              "      <th>std</th>\n",
              "      <td>7.676358e+14</td>\n",
              "      <td>0.149996</td>\n",
              "      <td>0.307860</td>\n",
              "      <td>1.172269</td>\n",
              "    </tr>\n",
              "    <tr>\n",
              "      <th>min</th>\n",
              "      <td>5.676433e+17</td>\n",
              "      <td>0.340000</td>\n",
              "      <td>0.000000</td>\n",
              "      <td>0.000000</td>\n",
              "    </tr>\n",
              "    <tr>\n",
              "      <th>25%</th>\n",
              "      <td>5.684797e+17</td>\n",
              "      <td>1.000000</td>\n",
              "      <td>0.622350</td>\n",
              "      <td>0.000000</td>\n",
              "    </tr>\n",
              "    <tr>\n",
              "      <th>50%</th>\n",
              "      <td>5.693176e+17</td>\n",
              "      <td>1.000000</td>\n",
              "      <td>0.677700</td>\n",
              "      <td>0.000000</td>\n",
              "    </tr>\n",
              "    <tr>\n",
              "      <th>75%</th>\n",
              "      <td>5.697157e+17</td>\n",
              "      <td>1.000000</td>\n",
              "      <td>1.000000</td>\n",
              "      <td>0.000000</td>\n",
              "    </tr>\n",
              "    <tr>\n",
              "      <th>max</th>\n",
              "      <td>5.703106e+17</td>\n",
              "      <td>1.000000</td>\n",
              "      <td>1.000000</td>\n",
              "      <td>44.000000</td>\n",
              "    </tr>\n",
              "  </tbody>\n",
              "</table>\n",
              "</div>\n",
              "    <div class=\"colab-df-buttons\">\n",
              "\n",
              "  <div class=\"colab-df-container\">\n",
              "    <button class=\"colab-df-convert\" onclick=\"convertToInteractive('df-5ca2bf1e-2704-47de-98a5-d4c8c1c6f617')\"\n",
              "            title=\"Convert this dataframe to an interactive table.\"\n",
              "            style=\"display:none;\">\n",
              "\n",
              "  <svg xmlns=\"http://www.w3.org/2000/svg\" height=\"24px\" viewBox=\"0 -960 960 960\">\n",
              "    <path d=\"M120-120v-720h720v720H120Zm60-500h600v-160H180v160Zm220 220h160v-160H400v160Zm0 220h160v-160H400v160ZM180-400h160v-160H180v160Zm440 0h160v-160H620v160ZM180-180h160v-160H180v160Zm440 0h160v-160H620v160Z\"/>\n",
              "  </svg>\n",
              "    </button>\n",
              "\n",
              "  <style>\n",
              "    .colab-df-container {\n",
              "      display:flex;\n",
              "      gap: 12px;\n",
              "    }\n",
              "\n",
              "    .colab-df-convert {\n",
              "      background-color: #E8F0FE;\n",
              "      border: none;\n",
              "      border-radius: 50%;\n",
              "      cursor: pointer;\n",
              "      display: none;\n",
              "      fill: #1967D2;\n",
              "      height: 32px;\n",
              "      padding: 0 0 0 0;\n",
              "      width: 32px;\n",
              "    }\n",
              "\n",
              "    .colab-df-convert:hover {\n",
              "      background-color: #E2EBFA;\n",
              "      box-shadow: 0px 1px 2px rgba(60, 64, 67, 0.3), 0px 1px 3px 1px rgba(60, 64, 67, 0.15);\n",
              "      fill: #174EA6;\n",
              "    }\n",
              "\n",
              "    .colab-df-buttons div {\n",
              "      margin-bottom: 4px;\n",
              "    }\n",
              "\n",
              "    [theme=dark] .colab-df-convert {\n",
              "      background-color: #3B4455;\n",
              "      fill: #D2E3FC;\n",
              "    }\n",
              "\n",
              "    [theme=dark] .colab-df-convert:hover {\n",
              "      background-color: #434B5C;\n",
              "      box-shadow: 0px 1px 3px 1px rgba(0, 0, 0, 0.15);\n",
              "      filter: drop-shadow(0px 1px 2px rgba(0, 0, 0, 0.3));\n",
              "      fill: #FFFFFF;\n",
              "    }\n",
              "  </style>\n",
              "\n",
              "    <script>\n",
              "      const buttonEl =\n",
              "        document.querySelector('#df-5ca2bf1e-2704-47de-98a5-d4c8c1c6f617 button.colab-df-convert');\n",
              "      buttonEl.style.display =\n",
              "        google.colab.kernel.accessAllowed ? 'block' : 'none';\n",
              "\n",
              "      async function convertToInteractive(key) {\n",
              "        const element = document.querySelector('#df-5ca2bf1e-2704-47de-98a5-d4c8c1c6f617');\n",
              "        const dataTable =\n",
              "          await google.colab.kernel.invokeFunction('convertToInteractive',\n",
              "                                                    [key], {});\n",
              "        if (!dataTable) return;\n",
              "\n",
              "        const docLinkHtml = 'Like what you see? Visit the ' +\n",
              "          '<a target=\"_blank\" href=https://colab.research.google.com/notebooks/data_table.ipynb>data table notebook</a>'\n",
              "          + ' to learn more about interactive tables.';\n",
              "        element.innerHTML = '';\n",
              "        dataTable['output_type'] = 'display_data';\n",
              "        await google.colab.output.renderOutput(dataTable, element);\n",
              "        const docLink = document.createElement('div');\n",
              "        docLink.innerHTML = docLinkHtml;\n",
              "        element.appendChild(docLink);\n",
              "      }\n",
              "    </script>\n",
              "  </div>\n",
              "\n",
              "\n",
              "<div id=\"df-3e129950-783c-4310-805a-82cf94b1c742\">\n",
              "  <button class=\"colab-df-quickchart\" onclick=\"quickchart('df-3e129950-783c-4310-805a-82cf94b1c742')\"\n",
              "            title=\"Suggest charts\"\n",
              "            style=\"display:none;\">\n",
              "\n",
              "<svg xmlns=\"http://www.w3.org/2000/svg\" height=\"24px\"viewBox=\"0 0 24 24\"\n",
              "     width=\"24px\">\n",
              "    <g>\n",
              "        <path d=\"M19 3H5c-1.1 0-2 .9-2 2v14c0 1.1.9 2 2 2h14c1.1 0 2-.9 2-2V5c0-1.1-.9-2-2-2zM9 17H7v-7h2v7zm4 0h-2V7h2v10zm4 0h-2v-4h2v4z\"/>\n",
              "    </g>\n",
              "</svg>\n",
              "  </button>\n",
              "\n",
              "<style>\n",
              "  .colab-df-quickchart {\n",
              "      --bg-color: #E8F0FE;\n",
              "      --fill-color: #1967D2;\n",
              "      --hover-bg-color: #E2EBFA;\n",
              "      --hover-fill-color: #174EA6;\n",
              "      --disabled-fill-color: #AAA;\n",
              "      --disabled-bg-color: #DDD;\n",
              "  }\n",
              "\n",
              "  [theme=dark] .colab-df-quickchart {\n",
              "      --bg-color: #3B4455;\n",
              "      --fill-color: #D2E3FC;\n",
              "      --hover-bg-color: #434B5C;\n",
              "      --hover-fill-color: #FFFFFF;\n",
              "      --disabled-bg-color: #3B4455;\n",
              "      --disabled-fill-color: #666;\n",
              "  }\n",
              "\n",
              "  .colab-df-quickchart {\n",
              "    background-color: var(--bg-color);\n",
              "    border: none;\n",
              "    border-radius: 50%;\n",
              "    cursor: pointer;\n",
              "    display: none;\n",
              "    fill: var(--fill-color);\n",
              "    height: 32px;\n",
              "    padding: 0;\n",
              "    width: 32px;\n",
              "  }\n",
              "\n",
              "  .colab-df-quickchart:hover {\n",
              "    background-color: var(--hover-bg-color);\n",
              "    box-shadow: 0 1px 2px rgba(60, 64, 67, 0.3), 0 1px 3px 1px rgba(60, 64, 67, 0.15);\n",
              "    fill: var(--button-hover-fill-color);\n",
              "  }\n",
              "\n",
              "  .colab-df-quickchart-complete:disabled,\n",
              "  .colab-df-quickchart-complete:disabled:hover {\n",
              "    background-color: var(--disabled-bg-color);\n",
              "    fill: var(--disabled-fill-color);\n",
              "    box-shadow: none;\n",
              "  }\n",
              "\n",
              "  .colab-df-spinner {\n",
              "    border: 2px solid var(--fill-color);\n",
              "    border-color: transparent;\n",
              "    border-bottom-color: var(--fill-color);\n",
              "    animation:\n",
              "      spin 1s steps(1) infinite;\n",
              "  }\n",
              "\n",
              "  @keyframes spin {\n",
              "    0% {\n",
              "      border-color: transparent;\n",
              "      border-bottom-color: var(--fill-color);\n",
              "      border-left-color: var(--fill-color);\n",
              "    }\n",
              "    20% {\n",
              "      border-color: transparent;\n",
              "      border-left-color: var(--fill-color);\n",
              "      border-top-color: var(--fill-color);\n",
              "    }\n",
              "    30% {\n",
              "      border-color: transparent;\n",
              "      border-left-color: var(--fill-color);\n",
              "      border-top-color: var(--fill-color);\n",
              "      border-right-color: var(--fill-color);\n",
              "    }\n",
              "    40% {\n",
              "      border-color: transparent;\n",
              "      border-right-color: var(--fill-color);\n",
              "      border-top-color: var(--fill-color);\n",
              "    }\n",
              "    60% {\n",
              "      border-color: transparent;\n",
              "      border-right-color: var(--fill-color);\n",
              "    }\n",
              "    80% {\n",
              "      border-color: transparent;\n",
              "      border-right-color: var(--fill-color);\n",
              "      border-bottom-color: var(--fill-color);\n",
              "    }\n",
              "    90% {\n",
              "      border-color: transparent;\n",
              "      border-bottom-color: var(--fill-color);\n",
              "    }\n",
              "  }\n",
              "</style>\n",
              "\n",
              "  <script>\n",
              "    async function quickchart(key) {\n",
              "      const quickchartButtonEl =\n",
              "        document.querySelector('#' + key + ' button');\n",
              "      quickchartButtonEl.disabled = true;  // To prevent multiple clicks.\n",
              "      quickchartButtonEl.classList.add('colab-df-spinner');\n",
              "      try {\n",
              "        const charts = await google.colab.kernel.invokeFunction(\n",
              "            'suggestCharts', [key], {});\n",
              "      } catch (error) {\n",
              "        console.error('Error during call to suggestCharts:', error);\n",
              "      }\n",
              "      quickchartButtonEl.classList.remove('colab-df-spinner');\n",
              "      quickchartButtonEl.classList.add('colab-df-quickchart-complete');\n",
              "    }\n",
              "    (() => {\n",
              "      let quickchartButtonEl =\n",
              "        document.querySelector('#df-3e129950-783c-4310-805a-82cf94b1c742 button');\n",
              "      quickchartButtonEl.style.display =\n",
              "        google.colab.kernel.accessAllowed ? 'block' : 'none';\n",
              "    })();\n",
              "  </script>\n",
              "</div>\n",
              "    </div>\n",
              "  </div>\n"
            ]
          },
          "metadata": {},
          "execution_count": 12
        }
      ],
      "source": [
        "data.describe()"
      ]
    },
    {
      "cell_type": "markdown",
      "metadata": {
        "id": "DqnzZBOs_6Xb"
      },
      "source": [
        "- `tweet_id` is a unique ID for a tweet, so we can discard it from our analysis\n",
        "- There is minimal retweeting of customers tweets\n",
        "    - However, this might vary by customer sentiment, so I'll check for that later"
      ]
    },
    {
      "cell_type": "markdown",
      "metadata": {
        "id": "kUJ_B5KxhU3D"
      },
      "source": [
        "## Exploratory Data Analysis (EDA)\n"
      ]
    },
    {
      "cell_type": "code",
      "execution_count": null,
      "metadata": {
        "id": "lYClY_MmbvG1"
      },
      "outputs": [],
      "source": [
        " # function to create labeled barplots\n",
        "\n",
        "def labeled_barplot(data, feature, perc=False, n=None):\n",
        "    \"\"\"\n",
        "    Barplot with percentage at the top\n",
        "\n",
        "    data: dataframe\n",
        "    feature: dataframe column\n",
        "    perc: whether to display percentages instead of count (default is False)\n",
        "    n: displays the top n category levels (default is None, i.e., display all levels)\n",
        "    \"\"\"\n",
        "\n",
        "    total = len(data[feature])  # length of the column\n",
        "    count = data[feature].nunique()\n",
        "    if n is None:\n",
        "        plt.figure(figsize=(count + 1, 5))\n",
        "    else:\n",
        "        plt.figure(figsize=(n + 1, 5))\n",
        "\n",
        "    plt.xticks(rotation=90, fontsize=15)\n",
        "    ax = sns.countplot(\n",
        "        data=data,\n",
        "        x=feature,\n",
        "        palette=\"Paired\",\n",
        "        order=data[feature].value_counts().index[:n].sort_values(),\n",
        "    )\n",
        "\n",
        "    for p in ax.patches:\n",
        "        if perc == True:\n",
        "            label = \"{:.1f}%\".format(\n",
        "                100 * p.get_height() / total\n",
        "            )  # percentage of each class of the category\n",
        "        else:\n",
        "            label = p.get_height()  # count of each level of the category\n",
        "\n",
        "        x = p.get_x() + p.get_width() / 2  # width of the plot\n",
        "        y = p.get_height()  # height of the plot\n",
        "\n",
        "        ax.annotate(\n",
        "            label,\n",
        "            (x, y),\n",
        "            ha=\"center\",\n",
        "            va=\"center\",\n",
        "            size=12,\n",
        "            xytext=(0, 5),\n",
        "            textcoords=\"offset points\",\n",
        "        )  # annotate the percentage\n",
        "\n",
        "    plt.show()  # show the plot"
      ]
    },
    {
      "cell_type": "markdown",
      "metadata": {
        "id": "Yzi68_PYAlof"
      },
      "source": [
        "### Univariate Analysis"
      ]
    },
    {
      "cell_type": "markdown",
      "metadata": {
        "id": "akIOIRhfbvG8"
      },
      "source": [
        "#### Distribution of sentiments"
      ]
    },
    {
      "cell_type": "code",
      "execution_count": null,
      "metadata": {
        "colab": {
          "base_uri": "https://localhost:8080/"
        },
        "id": "ByuRA3I2bvG_",
        "outputId": "b5f56dda-511d-4c35-b651-dc2786667519"
      },
      "outputs": [
        {
          "output_type": "display_data",
          "data": {
            "text/plain": [
              "<Figure size 400x500 with 1 Axes>"
            ],
            "image/png": "[encoded data removed]"
          },
          "metadata": {}
        }
      ],
      "source": [
        "labeled_barplot(data, \"airline_sentiment\", perc=True)"
      ]
    },
    {
      "cell_type": "markdown",
      "metadata": {
        "id": "fqnuCtG7bvHB"
      },
      "source": [
        "- Majority of the tweets are negative (78%), followed by neutral tweets (13%), and then the positive tweets (9%)"
      ]
    },
    {
      "cell_type": "markdown",
      "metadata": {
        "id": "gnPICJ-WbvHD"
      },
      "source": [
        "#### Distribution of negative sentiment reasons"
      ]
    },
    {
      "cell_type": "code",
      "execution_count": null,
      "metadata": {
        "colab": {
          "base_uri": "https://localhost:8080/"
        },
        "id": "StFvx8mCbvHF",
        "outputId": "ef765157-8fca-43ca-f8b7-e39381eea567"
      },
      "outputs": [
        {
          "output_type": "display_data",
          "data": {
            "text/plain": [
              "<Figure size 1100x500 with 1 Axes>"
            ],
            "image/png": "[encoded data removed]"
          },
          "metadata": {}
        }
      ],
      "source": [
        "labeled_barplot(data, \"negativereason\", perc=True)"
      ]
    },
    {
      "cell_type": "markdown",
      "metadata": {
        "id": "kYqGBWxs-yIy"
      },
      "source": [
        "* The predominant causes of negative tweets appear to be customer service issues (28%) and late flights (16%)"
      ]
    },
    {
      "cell_type": "markdown",
      "metadata": {
        "id": "NR2gN_5CG4U-"
      },
      "source": [
        "#### Distribution of retweets"
      ]
    },
    {
      "cell_type": "code",
      "execution_count": null,
      "metadata": {
        "colab": {
          "base_uri": "https://localhost:8080/"
        },
        "id": "GlB60Dt_G8VN",
        "outputId": "e9a3c8a1-8f32-412a-cc94-f01d614b5e4b"
      },
      "outputs": [
        {
          "output_type": "display_data",
          "data": {
            "text/plain": [
              "<Figure size 640x480 with 1 Axes>"
            ],
            "image/png": "[encoded data removed]"
          },
          "metadata": {}
        }
      ],
      "source": [
        "sns.histplot(data, x='retweet_count', bins =50);"
      ]
    },
    {
      "cell_type": "markdown",
      "metadata": {
        "id": "-zbypFrOHJto"
      },
      "source": [
        "- A majority of the customer tweets are not re-tweeted\n",
        "- The lower number of retweet counts suggests that customers are less inclined to retweet"
      ]
    },
    {
      "cell_type": "markdown",
      "metadata": {
        "id": "VJuID4s3BPXB"
      },
      "source": [
        "### Bivariate Analysis"
      ]
    },
    {
      "cell_type": "markdown",
      "metadata": {
        "id": "yGjEb78AkWEE"
      },
      "source": [
        "Checking the relationship between retweets and customer sentiment"
      ]
    },
    {
      "cell_type": "code",
      "execution_count": null,
      "metadata": {
        "colab": {
          "base_uri": "https://localhost:8080/"
        },
        "id": "ZLp6TH5D-JV5",
        "outputId": "34dfa815-ed31-4e20-9738-e893ef7cffe7"
      },
      "outputs": [
        {
          "output_type": "display_data",
          "data": {
            "text/plain": [
              "<Figure size 640x480 with 1 Axes>"
            ],
            "image/png": "[encoded data removed]"
          },
          "metadata": {}
        }
      ],
      "source": [
        "sns.barplot(data, y='retweet_count', x='airline_sentiment', errorbar=('ci', False));"
      ]
    },
    {
      "cell_type": "markdown",
      "metadata": {
        "id": "P7fb7Avm_ISY"
      },
      "source": [
        "* On average, negative sentiment tweets get re-tweeted the most"
      ]
    },
    {
      "cell_type": "markdown",
      "metadata": {
        "id": "ZCM6avoA39FB"
      },
      "source": [
        "## Data Preprocessing"
      ]
    },
    {
      "cell_type": "code",
      "execution_count": null,
      "metadata": {
        "id": "42CTojahioE5"
      },
      "outputs": [],
      "source": [
        "dataset = data.copy()"
      ]
    },
    {
      "cell_type": "markdown",
      "metadata": {
        "id": "VqiWTT5PhcR8"
      },
      "source": [
        "#### **Splitting the dataset**"
      ]
    },
    {
      "cell_type": "code",
      "execution_count": null,
      "metadata": {
        "id": "q6D5tdDiymfd"
      },
      "outputs": [],
      "source": [
        "# Creating dependent and independent variables\n",
        "X = dataset['text']\n",
        "y = dataset['airline_sentiment']"
      ]
    },
    {
      "cell_type": "code",
      "source": [
        "from sklearn.model_selection import train_test_split\n",
        "\n",
        "# Initial split into training (80%) and testing (20%)\n",
        "X_train, X_temp, y_train, y_temp = train_test_split(X, y, test_size=0.20, random_state=42)\n",
        "\n",
        "# Further split the temporary set into validation (10%) and test (10%) sets\n",
        "X_valid, X_test, y_valid, y_test = train_test_split(X_temp, y_temp, test_size=0.50, random_state=42)"
      ],
      "metadata": {
        "id": "JR1b1XUwOVFk"
      },
      "execution_count": null,
      "outputs": []
    },
    {
      "cell_type": "code",
      "source": [
        "X_train.shape, X_test.shape, X_valid.shape"
      ],
      "metadata": {
        "colab": {
          "base_uri": "https://localhost:8080/"
        },
        "id": "g0zoMsOuPULf",
        "outputId": "95f3838f-9290-423f-91e8-eaf653d390a9"
      },
      "execution_count": null,
      "outputs": [
        {
          "output_type": "execute_result",
          "data": {
            "text/plain": [
              "((2330,), (292,), (291,))"
            ]
          },
          "metadata": {},
          "execution_count": 21
        }
      ]
    },
    {
      "cell_type": "code",
      "execution_count": null,
      "metadata": {
        "id": "kzasbPBGs3ey"
      },
      "outputs": [],
      "source": [
        "# Instantiate a LabelEncoder to encode categorical labels into numerical values\n",
        "encoder = LabelEncoder()\n",
        "\n",
        "# Create DataFrames for training, validation, and testing sets\n",
        "# Encoding the target variable and adding it to the respective DataFrames\n",
        "# Resetting index for consistency in DataFrames\n",
        "\n",
        "# Training set\n",
        "ds_train = pd.DataFrame(data=X_train, columns=['text'])\n",
        "ds_train['target'] =  encoder.fit_transform(y_train)\n",
        "ds_train = ds_train.reset_index(drop=True)\n",
        "\n",
        "# # Validation set\n",
        "ds_valid = pd.DataFrame(data=X_valid, columns=['text'])\n",
        "ds_valid['target'] =  encoder.transform(y_valid)\n",
        "ds_valid = ds_valid.reset_index(drop=True)\n",
        "\n",
        "# # Testing set\n",
        "ds_test = pd.DataFrame(data=X_test, columns=['text'])\n",
        "ds_test['target'] =  encoder.transform(y_test)\n",
        "ds_test = ds_test.reset_index(drop=True)"
      ]
    },
    {
      "cell_type": "markdown",
      "metadata": {
        "id": "07a20WohZdI0"
      },
      "source": [
        "#### **Tokenization**"
      ]
    },
    {
      "cell_type": "markdown",
      "metadata": {
        "id": "dsmBsGul_5MP"
      },
      "source": [
        "Tokenization is a fundamental step in preparing text data for machine learning models, allowing them to effectively process and learn from textual information. It facilitates the conversion of text into a format that can be easily fed into models, enabling them to understand and make predictions based on language patterns."
      ]
    },
    {
      "cell_type": "code",
      "execution_count": null,
      "metadata": {
        "id": "1kCillRsHWhS",
        "colab": {
          "base_uri": "https://localhost:8080/",
          "height": 145,
          "referenced_widgets": [
            "a730db3eceba40f2a01022e1ca312286",
            "4778be9f69cd4046a43032a6e919709e",
            "a6cd4b9bddb949468fd28ccd061dab76",
            "7ec0cb71000b49988f53fb5ff3763a07",
            "cf6a13182a61485bbdd5bcd04a577cc4",
            "0b28a7a4c79d4ab381226e5f4e6c5d20",
            "7a545df32fc343fe973491642bc590d7",
            "39d089d806124117b098620a7b9bc70f",
            "c6f9cd2dc43e4cd482cf96279d1673a6",
            "ea020fa8b83c4709bdd199952e0656f8",
            "c20375a3ea3b423c9e1693b9c325d66a",
            "1af3e0a174aa4fc981e846eae3d23ce6",
            "ca5f84babc2f4f818994f060329f7a4d",
            "66856ea8249146ae8d7304863d3b6d9e",
            "9c131cfefc7c4e9ca577517ad04a676b",
            "49c55af7f44e4d959423b8b78f38cd14",
            "eb2fd93fedbe46caa29296d3338a3d24",
            "7661f38282b642ec99dc06e0b5df788e",
            "24a677cd8386430c99d6a35046d4bfc5",
            "ca114287ba9745728afbbe4c91825383",
            "833918e9d9414f009f828a6b059e427c",
            "066207e7999a4e3b8f61831c8d26fc07",
            "7f9d5d1ef24248b593eef0f512f4b343",
            "bb1b1a77da804808ac5288f810688550",
            "73b43fe317c445c39b1fd04d21ca2453",
            "048bad03bcb542e9a2f8b1445b3e8166",
            "d6a0b60d07fc4e8ea49a66f27b181f00",
            "722301ea1d9b4dd3ba1d892057e5fc2b",
            "42c20f76c7e048ad96f174e8550638da",
            "766a4542828241ebaf3df61b53859527",
            "025442b7076a4bd6bdd2dedfbaa096dd",
            "2e5b10698c7b4b2e8babfd98ba75c4cb",
            "62f80975178a4668be256ebf5f1ce359",
            "72baf3d52a7244f3b6fcf086c40b753e",
            "a05ae2ec97554251ace95601a8019c7c",
            "6eaccbd20fd547bf92dbc605f68ee2b3",
            "1375e5a921ab4ce19f7401829c64573d",
            "0a6e4343903c4d0c8701a45a6ee8cdef",
            "7573da24538c445f8d2c94a29c5379ec",
            "a6298e83adab40cc80596f3cdb25e7e5",
            "343ffe9948aa4b299ea7163ebfd258bc",
            "88f311da14c04166a8ccfdeee3d7583f",
            "0afd0fc3a4594bd58388f4761dbf6436",
            "52125190d19a468ca0e94c050112ea45"
          ]
        },
        "outputId": "e287ea81-ff88-4f78-86a3-e9f85c9753bf"
      },
      "outputs": [
        {
          "output_type": "display_data",
          "data": {
            "text/plain": [
              "tokenizer_config.json:   0%|          | 0.00/28.0 [00:00<?, ?B/s]"
            ],
            "application/vnd.jupyter.widget-view+json": {
              "version_major": 2,
              "version_minor": 0,
              "model_id": "a730db3eceba40f2a01022e1ca312286"
            }
          },
          "metadata": {}
        },
        {
          "output_type": "display_data",
          "data": {
            "text/plain": [
              "vocab.txt:   0%|          | 0.00/232k [00:00<?, ?B/s]"
            ],
            "application/vnd.jupyter.widget-view+json": {
              "version_major": 2,
              "version_minor": 0,
              "model_id": "1af3e0a174aa4fc981e846eae3d23ce6"
            }
          },
          "metadata": {}
        },
        {
          "output_type": "display_data",
          "data": {
            "text/plain": [
              "tokenizer.json:   0%|          | 0.00/466k [00:00<?, ?B/s]"
            ],
            "application/vnd.jupyter.widget-view+json": {
              "version_major": 2,
              "version_minor": 0,
              "model_id": "7f9d5d1ef24248b593eef0f512f4b343"
            }
          },
          "metadata": {}
        },
        {
          "output_type": "display_data",
          "data": {
            "text/plain": [
              "config.json:   0%|          | 0.00/570 [00:00<?, ?B/s]"
            ],
            "application/vnd.jupyter.widget-view+json": {
              "version_major": 2,
              "version_minor": 0,
              "model_id": "72baf3d52a7244f3b6fcf086c40b753e"
            }
          },
          "metadata": {}
        }
      ],
      "source": [
        "## tokenizing\n",
        "tokenizer = BertTokenizer.from_pretrained('bert-base-uncased', do_lower_case=True)"
      ]
    },
    {
      "cell_type": "markdown",
      "source": [
        "* `pretrained_model_name_or_path`: takes the name/path of the model for which tokenizer needs to be imported\n",
        "    * We're passing '*bert-base-cased*' as we want to load BERT base model's tokenizer\n",
        "\n",
        "* Both the BERT base and large models have two available variants\n",
        "\n",
        "    * **cased**: Preserves case information and may capture subtle nuances in meaning based on capitalization\n",
        "    * **uncased**: Ignores case and may not capture subtle meaning differences based on case"
      ],
      "metadata": {
        "id": "k_hsrFWA3ar3"
      }
    },
    {
      "cell_type": "code",
      "execution_count": null,
      "metadata": {
        "id": "kjVxm2P7HWhT"
      },
      "outputs": [],
      "source": [
        "# Function to convert text examples to BERT-compatible features\n",
        "# Parameters:\n",
        "# - review: The input text to be converted\n",
        "# Returns:\n",
        "# - Dictionary containing BERT-compatible encoding, including special tokens,\n",
        "#   attention mask, and padding to ensure consistent input length\n",
        "def convert_example_to_feature(review, max_length):\n",
        "    return tokenizer.encode_plus(\n",
        "        review,\n",
        "        max_length=max_length,    # max length of the text that can go to BERT\n",
        "        padding='max_length',\n",
        "        return_attention_mask=True,  # add attention mask to not focus on pad tokens\n",
        "    )"
      ]
    },
    {
      "cell_type": "markdown",
      "metadata": {
        "id": "9pX-UF6uaBh-"
      },
      "source": [
        "* **padding='max_length'**: Enables padding to ensure uniform length sequences. All sequences are padded to have the length of the longest input sequence\n",
        "\n",
        "**Note**: Padding is the process of adding special tokens to sequences to make them of equal length. When the padding value is set to true during tokenization, the tokenizer automatically adds special tokens to shorter sequences in a batch, ensuring all sequences have the same length. When set to false, sequences of varying lengths are not padded, and manual handling of variable-length sequences is required. This approach may introduce additional complexity in handling input data during training."
      ]
    },
    {
      "cell_type": "code",
      "source": [
        "def map_example_to_dict(input_ids, attention_masks, token_type_ids, label):\n",
        "    return {\n",
        "        \"input_ids\": input_ids,\n",
        "        \"token_type_ids\": token_type_ids,\n",
        "        \"attention_mask\": attention_masks,\n",
        "    }, label"
      ],
      "metadata": {
        "id": "_W4ODVo1aT03"
      },
      "execution_count": null,
      "outputs": []
    },
    {
      "cell_type": "code",
      "source": [
        "# Function to encode examples from a Pandas DataFrame into a TensorFlow dataset\n",
        "# Parameters:\n",
        "# - ds: Pandas DataFrame containing text examples and labels\n",
        "# Returns:\n",
        "# - TensorFlow dataset containing input_ids, attention_mask, token_type_ids, and labels\n",
        "def encode_examples(ds, max_length):\n",
        "    # Prepare lists to build up the final TensorFlow dataset from slices\n",
        "    input_ids_list = []\n",
        "    token_type_ids_list = []\n",
        "    attention_mask_list = []\n",
        "    label_list = []\n",
        "\n",
        "    # Iterate over rows in the DataFrame\n",
        "    for row in ds.values:\n",
        "        # Convert the text example to BERT-compatible features\n",
        "        bert_input = convert_example_to_feature(row[0], max_length)\n",
        "\n",
        "        # Append the individual components to their respective lists\n",
        "        input_ids_list.append(bert_input['input_ids'])\n",
        "        token_type_ids_list.append(bert_input['token_type_ids'])\n",
        "        attention_mask_list.append(bert_input['attention_mask'])\n",
        "        label_list.append([row[1]])\n",
        "\n",
        "    # Create a TensorFlow dataset from the lists and apply the mapping function\n",
        "    return tf.data.Dataset.from_tensor_slices((input_ids_list, attention_mask_list, token_type_ids_list, label_list)).map(map_example_to_dict)"
      ],
      "metadata": {
        "id": "Xm0lhiksaWgS"
      },
      "execution_count": null,
      "outputs": []
    },
    {
      "cell_type": "code",
      "source": [
        "# Maximum length of input sequences for BERT model\n",
        "max_length = 512\n",
        "\n",
        "# Batch size for the data\n",
        "batch_size = 6\n",
        "\n",
        "# Encode and batch the training dataset\n",
        "ds_train_encoded = encode_examples(ds_train, max_length).batch(batch_size)\n",
        "\n",
        "# Encode and batch the validation dataset\n",
        "ds_valid_encoded = encode_examples(ds_valid, max_length).batch(batch_size)\n",
        "\n",
        "# Encode and batch the test dataset\n",
        "ds_test_encoded = encode_examples(ds_test, max_length).batch(batch_size)"
      ],
      "metadata": {
        "id": "X3xqb9wYaZ_q"
      },
      "execution_count": null,
      "outputs": []
    },
    {
      "cell_type": "code",
      "execution_count": null,
      "metadata": {
        "colab": {
          "base_uri": "https://localhost:8080/"
        },
        "id": "j_m7tQcmbwKq",
        "outputId": "0207477f-e74f-46a5-e10c-1c7e156b9802"
      },
      "outputs": [
        {
          "output_type": "execute_result",
          "data": {
            "text/plain": [
              "<_BatchDataset element_spec=({'input_ids': TensorSpec(shape=(None, 512), dtype=tf.int32, name=None), 'token_type_ids': TensorSpec(shape=(None, 512), dtype=tf.int32, name=None), 'attention_mask': TensorSpec(shape=(None, 512), dtype=tf.int32, name=None)}, TensorSpec(shape=(None, 1), dtype=tf.int32, name=None))>"
            ]
          },
          "metadata": {},
          "execution_count": 28
        }
      ],
      "source": [
        "ds_train_encoded"
      ]
    },
    {
      "cell_type": "markdown",
      "metadata": {
        "id": "3XzKr61jkY_H"
      },
      "source": [
        "* **input_ids**: This key contains the tokenized representation of the input text in the form of token IDs. Each token in the text is converted into a unique integer ID, and these IDs are stored in a sequence under the 'input_ids' key.\n",
        "\n",
        "* **token_type_ids**: In the case of models that can handle multiple sequences (e.g., for tasks like question-answering where there are two input sequences - question and answer), this key represents the segment or token type IDs. It helps the model distinguish between different segments of the input.\n",
        "\n",
        "* **attention_mask**: This key contains a binary mask indicating which positions in the input text are actual tokens as opposed to padding tokens. The attention mask is used to tell the model which tokens to pay attention to and which ones to ignore during processing."
      ]
    },
    {
      "cell_type": "markdown",
      "metadata": {
        "id": "f4lwYN5bYmHp"
      },
      "source": [
        "## Model Building"
      ]
    },
    {
      "cell_type": "markdown",
      "metadata": {
        "id": "n0zOSq9mieSG"
      },
      "source": [
        "### Loading the Model"
      ]
    },
    {
      "cell_type": "code",
      "execution_count": null,
      "metadata": {
        "colab": {
          "base_uri": "https://localhost:8080/",
          "height": 138,
          "referenced_widgets": [
            "878e15cfb9f34df2a35bee0079f19f42",
            "d6601b83a90c4477abd5600b4adb4fc4",
            "7cd9bb54632745fca310a381d191a690",
            "67cd9f79f1514de6961424451f3f7f0c",
            "50e54954a4ed45368a868f1033781000",
            "6b44a8f6806d414890c4af374d76e5f4",
            "c24b97d3b7fa4272ade14338f30f2220",
            "1431927573c24d94b06efcda6696c264",
            "26b075a468624fa6b595e8a2b3e97a71",
            "e4223d9b2c2c4afd82b8ae69ccd71c81",
            "abfca64ba87f457f8c5720ffb1cfc342"
          ]
        },
        "id": "NWutItsUdMyR",
        "outputId": "c216bc2a-e47d-41eb-fcf6-d767c1b4eb2b"
      },
      "outputs": [
        {
          "output_type": "display_data",
          "data": {
            "text/plain": [
              "pytorch_model.bin:   0%|          | 0.00/440M [00:00<?, ?B/s]"
            ],
            "application/vnd.jupyter.widget-view+json": {
              "version_major": 2,
              "version_minor": 0,
              "model_id": "878e15cfb9f34df2a35bee0079f19f42"
            }
          },
          "metadata": {}
        },
        {
          "output_type": "stream",
          "name": "stderr",
          "text": [
            "All PyTorch model weights were used when initializing TFBertForSequenceClassification.\n",
            "\n",
            "Some weights or buffers of the TF 2.0 model TFBertForSequenceClassification were not initialized from the PyTorch model and are newly initialized: ['classifier.weight', 'classifier.bias']\n",
            "You should probably TRAIN this model on a down-stream task to be able to use it for predictions and inference.\n"
          ]
        }
      ],
      "source": [
        "# Model initialization using BERT for sequence classification\n",
        "model = TFBertForSequenceClassification.from_pretrained('bert-base-uncased', from_pt=True, num_labels=3)"
      ]
    },
    {
      "cell_type": "markdown",
      "metadata": {
        "id": "kNxF8C4GctYV"
      },
      "source": [
        "**Note** - The message in the output is informing that while the main BERT model was loaded from the pre-trained weights successfully, the classification head was not loaded and was initialized randomly. To use the model effectively for specific task, one should fine-tune it on own dataset."
      ]
    },
    {
      "cell_type": "markdown",
      "metadata": {
        "id": "kw_S7dnz-JHy"
      },
      "source": [
        "- **from_pt**: Defines whether the model weights should be as the ones from the PyTorch version\n",
        "    - Setting to *True* ensure we use the PyTorch weights\n",
        "\n",
        "- **num_labels**: This parameter specifies the number of labels or classes for the sequence classification task. In this example, the model is configured for a task with three labels.\n",
        "  -  This value is based on the number of classes in your specific classification problem."
      ]
    },
    {
      "cell_type": "code",
      "execution_count": null,
      "metadata": {
        "colab": {
          "base_uri": "https://localhost:8080/"
        },
        "id": "Z96XxQoZnz_L",
        "outputId": "3b58c09a-6566-4c50-cb5c-0836df3dc178"
      },
      "outputs": [
        {
          "output_type": "stream",
          "name": "stdout",
          "text": [
            "Model: \"tf_bert_for_sequence_classification\"\n",
            "_________________________________________________________________\n",
            " Layer (type)                Output Shape              Param #   \n",
            "=================================================================\n",
            " bert (TFBertMainLayer)      multiple                  109482240 \n",
            "                                                                 \n",
            " dropout_37 (Dropout)        multiple                  0         \n",
            "                                                                 \n",
            " classifier (Dense)          multiple                  2307      \n",
            "                                                                 \n",
            "=================================================================\n",
            "Total params: 109484547 (417.65 MB)\n",
            "Trainable params: 109484547 (417.65 MB)\n",
            "Non-trainable params: 0 (0.00 Byte)\n",
            "_________________________________________________________________\n"
          ]
        }
      ],
      "source": [
        "# print the summary of the model\n",
        "model.summary()"
      ]
    },
    {
      "cell_type": "markdown",
      "metadata": {
        "id": "OBZ_USEG-fGX"
      },
      "source": [
        "**Layers Overview**\n",
        "\n",
        "* **bert (TFBertMainLayer)**: This is the main BERT layer responsible for processing input sequences. It has number of parameters (109,482,240), which are the\n",
        "weights and biases that the model has learned during pre-training. This layer is designed to capture contextualized representations of input tokens.\n",
        "\n",
        "* **dropout_37 (Dropout)**: Dropout is a regularization technique used to prevent overfitting. This layer applies dropout to the output of the BERT layer. In the summary, it's mentioned as having multiple output shapes, and it has 0 parameters since dropout doesn't introduce new parameters.\n",
        "\n",
        "* **classifier (Dense)**: This is the final dense layer responsible for the sequence classification. It has 2,307 parameters, which are the weights and biases for mapping the BERT representation to the final output classes. The output shape is also mentioned as multiple, as it depends on the number of classes in your classification task."
      ]
    },
    {
      "cell_type": "markdown",
      "metadata": {
        "id": "tOOFfQIWh3_G"
      },
      "source": [
        "### Fine-tuning the model"
      ]
    },
    {
      "cell_type": "code",
      "source": [
        "# setting the learning rate for the optimizer\n",
        "learning_rate = 2e-5\n",
        "\n",
        "# Setting the optimizer to Adam\n",
        "optimizer = tf.keras.optimizers.Adam(learning_rate=learning_rate, epsilon=1e-08)\n",
        "\n",
        "# Specify the loss function for the model\n",
        "loss = tf.keras.losses.SparseCategoricalCrossentropy(from_logits=True)\n",
        "\n",
        "# Define evaluation metric(s) for the model\n",
        "metric = [tf.keras.metrics.SparseCategoricalAccuracy('accuracy')]\n",
        "\n",
        "# Compile the model with the chosen optimizer, loss function, and metrics\n",
        "model.compile(optimizer=optimizer, loss=loss, metrics=metric)"
      ],
      "metadata": {
        "id": "dkbqKqzCa2gf"
      },
      "execution_count": null,
      "outputs": []
    },
    {
      "cell_type": "markdown",
      "source": [
        "Training a machine learning model, imbalanced datasets can lead to biased model predictions, as the model may prioritize the majority class due to its prevalence. Class weights help to mitigate this issue by assigning higher weights to underrepresented classes, encouraging the model to pay more attention to these classes during training."
      ],
      "metadata": {
        "id": "gU8UN0D8_8jb"
      }
    },
    {
      "cell_type": "code",
      "source": [
        "# Calculate class weights for imbalanced dataset\n",
        "cw = (ds_train.shape[0]) / np.bincount(ds_train.iloc[:, 1].values)\n",
        "\n",
        "# Create a dictionary mapping class indices to their respective class weights\n",
        "cw_dict = {0: cw[0], 1: cw[1], 2: cw[2]}"
      ],
      "metadata": {
        "id": "svCoIAK5bQL9"
      },
      "execution_count": null,
      "outputs": []
    },
    {
      "cell_type": "markdown",
      "source": [
        "- To define class weights, we first take the number of samples using `ds_train.shape[0]` - (I)\n",
        "- `np.bincount` us then used to count occurrences of each label and calculate class frequencies - (II)\n",
        "- We divide (I) by (II) to get the required class weights"
      ],
      "metadata": {
        "id": "E3S_dES_Kc0a"
      }
    },
    {
      "cell_type": "code",
      "source": [
        "# Number of training epochs\n",
        "number_of_epochs = 5\n",
        "\n",
        "bert_base_tuned = model.fit(ds_train_encoded, epochs=number_of_epochs, validation_data=ds_valid_encoded, class_weight=cw_dict)"
      ],
      "metadata": {
        "id": "RNf_RGMGbZAA",
        "colab": {
          "base_uri": "https://localhost:8080/"
        },
        "outputId": "49e88348-0c0c-4b12-b57e-54a9282169f7"
      },
      "execution_count": null,
      "outputs": [
        {
          "output_type": "stream",
          "name": "stdout",
          "text": [
            "Epoch 1/5\n",
            "389/389 [==============================] - 378s 759ms/step - loss: 2.3562 - accuracy: 0.6970 - val_loss: 0.4073 - val_accuracy: 0.8419\n",
            "Epoch 2/5\n",
            "389/389 [==============================] - 298s 765ms/step - loss: 1.2135 - accuracy: 0.8481 - val_loss: 0.3799 - val_accuracy: 0.8488\n",
            "Epoch 3/5\n",
            "389/389 [==============================] - 297s 764ms/step - loss: 0.6850 - accuracy: 0.9232 - val_loss: 0.5045 - val_accuracy: 0.8110\n",
            "Epoch 4/5\n",
            "389/389 [==============================] - 297s 764ms/step - loss: 0.4448 - accuracy: 0.9545 - val_loss: 0.4846 - val_accuracy: 0.8316\n",
            "Epoch 5/5\n",
            "389/389 [==============================] - 297s 764ms/step - loss: 0.2822 - accuracy: 0.9725 - val_loss: 0.5703 - val_accuracy: 0.8522\n"
          ]
        }
      ]
    },
    {
      "cell_type": "markdown",
      "source": [
        "### Model performance evaluation"
      ],
      "metadata": {
        "id": "-8yTYp-yO_pc"
      }
    },
    {
      "cell_type": "code",
      "source": [
        "# Generate raw predictions on the validation dataset using the trained model\n",
        "preds_raw_val = model.predict(ds_valid_encoded)\n",
        "\n",
        "# Extract predicted labels by finding the index with the highest probability for each example\n",
        "preds_val = np.argmax(np.array(tf.nn.softmax(preds_raw_val.logits)), axis=1)\n",
        "\n",
        "# Display the shape of the predicted labels array\n",
        "preds_val.shape"
      ],
      "metadata": {
        "id": "R4g_Tqsob3ZJ",
        "colab": {
          "base_uri": "https://localhost:8080/"
        },
        "outputId": "7212005b-ce50-4cea-84f5-b68aafc21ebe"
      },
      "execution_count": null,
      "outputs": [
        {
          "output_type": "stream",
          "name": "stdout",
          "text": [
            "49/49 [==============================] - 16s 269ms/step\n"
          ]
        },
        {
          "output_type": "execute_result",
          "data": {
            "text/plain": [
              "(291,)"
            ]
          },
          "metadata": {},
          "execution_count": 34
        }
      ]
    },
    {
      "cell_type": "code",
      "execution_count": null,
      "metadata": {
        "colab": {
          "base_uri": "https://localhost:8080/",
          "height": 472
        },
        "id": "k0gfNvSzOx4W",
        "outputId": "f9b16bc0-032d-4386-d486-7686a24f84d6"
      },
      "outputs": [
        {
          "output_type": "display_data",
          "data": {
            "text/plain": [
              "<Figure size 640x480 with 2 Axes>"
            ],
            "image/png": "[encoded data removed]"
          },
          "metadata": {}
        }
      ],
      "source": [
        "# Creating confusion matrix\n",
        "cnf_mt = confusion_matrix(ds_valid['target'], preds_val)\n",
        "\n",
        "# Visualizing confusion matrix using a heatmap\n",
        "labels = ['negative', 'neutral', 'positive']\n",
        "sns.heatmap(cnf_mt, annot=True, fmt='d', cmap='Blues', xticklabels=labels, yticklabels=labels)\n",
        "plt.xlabel('Predicted')\n",
        "plt.ylabel('Actual')\n",
        "plt.title('Confusion Matrix')\n",
        "plt.show()"
      ]
    },
    {
      "cell_type": "code",
      "source": [
        "# Display classification report\n",
        "print('Classification Report:')\n",
        "print(classification_report(ds_valid['target'], preds_val))"
      ],
      "metadata": {
        "id": "mmiv-Near8Bc",
        "colab": {
          "base_uri": "https://localhost:8080/"
        },
        "outputId": "801a76f3-913f-4e95-9910-9e3bad1136c7"
      },
      "execution_count": null,
      "outputs": [
        {
          "output_type": "stream",
          "name": "stdout",
          "text": [
            "Classification Report:\n",
            "              precision    recall  f1-score   support\n",
            "\n",
            "           0       0.94      0.88      0.91       215\n",
            "           1       0.61      0.76      0.68        51\n",
            "           2       0.79      0.76      0.78        25\n",
            "\n",
            "    accuracy                           0.85       291\n",
            "   macro avg       0.78      0.80      0.79       291\n",
            "weighted avg       0.87      0.85      0.86       291\n",
            "\n"
          ]
        }
      ]
    },
    {
      "cell_type": "markdown",
      "metadata": {
        "id": "NTCaMHCX9xxW"
      },
      "source": [
        "- The model achieved ~85% accuracy on the validation set\n",
        "- It also has a 85% recall (weighted average across all possible outcomes), which is good"
      ]
    },
    {
      "cell_type": "markdown",
      "metadata": {
        "id": "gmofDrtqO21p"
      },
      "source": [
        "## Model Testing"
      ]
    },
    {
      "cell_type": "code",
      "source": [
        "preds_raw_test = model.predict(ds_test_encoded)\n",
        "preds_test = np.argmax(np.array(tf.nn.softmax(preds_raw_test.logits)), axis=1)\n",
        "preds_test.shape"
      ],
      "metadata": {
        "id": "LSMdBiUUsTGl",
        "colab": {
          "base_uri": "https://localhost:8080/"
        },
        "outputId": "1bce069e-894e-493a-c79a-c9d1c284ed3f"
      },
      "execution_count": null,
      "outputs": [
        {
          "output_type": "stream",
          "name": "stdout",
          "text": [
            "49/49 [==============================] - 13s 268ms/step\n"
          ]
        },
        {
          "output_type": "execute_result",
          "data": {
            "text/plain": [
              "(292,)"
            ]
          },
          "metadata": {},
          "execution_count": 41
        }
      ]
    },
    {
      "cell_type": "code",
      "execution_count": null,
      "metadata": {
        "id": "ZlZobg5ksnm2",
        "colab": {
          "base_uri": "https://localhost:8080/",
          "height": 472
        },
        "outputId": "93f4e28a-a1ce-48af-c804-1fc54adeabe5"
      },
      "outputs": [
        {
          "output_type": "display_data",
          "data": {
            "text/plain": [
              "<Figure size 640x480 with 2 Axes>"
            ],
            "image/png": "[encoded data removed]"
          },
          "metadata": {}
        }
      ],
      "source": [
        "# Creating confusion matrix\n",
        "cnf_mt = confusion_matrix(ds_test['target'], preds_test)\n",
        "\n",
        "# Visualizing confusion matrix using a heatmap\n",
        "labels = ['negative', 'neutral', 'positive']\n",
        "sns.heatmap(cnf_mt, annot=True, fmt='d', cmap='Blues', xticklabels=labels, yticklabels=labels)\n",
        "plt.xlabel('Predicted')\n",
        "plt.ylabel('Actual')\n",
        "plt.title('Confusion Matrix')\n",
        "plt.show()"
      ]
    },
    {
      "cell_type": "code",
      "source": [
        "# Display classification report\n",
        "print('Classification Report:')\n",
        "print(classification_report(ds_test['target'], preds_test))"
      ],
      "metadata": {
        "id": "5QW-4VNjsnnH",
        "colab": {
          "base_uri": "https://localhost:8080/"
        },
        "outputId": "b3cb65e7-ed8b-4b29-9ae9-b8e9cda0f9f1"
      },
      "execution_count": null,
      "outputs": [
        {
          "output_type": "stream",
          "name": "stdout",
          "text": [
            "Classification Report:\n",
            "              precision    recall  f1-score   support\n",
            "\n",
            "           0       0.95      0.86      0.90       228\n",
            "           1       0.38      0.76      0.50        34\n",
            "           2       0.75      0.40      0.52        30\n",
            "\n",
            "    accuracy                           0.80       292\n",
            "   macro avg       0.69      0.67      0.64       292\n",
            "weighted avg       0.86      0.80      0.82       292\n",
            "\n"
          ]
        }
      ]
    },
    {
      "cell_type": "markdown",
      "source": [
        "- The model achieved ~80% accuracy on the test set\n",
        "- It also has a 80% recall (weighted average across all possible outcomes), which is good"
      ],
      "metadata": {
        "id": "ZM-A_eQRLRHu"
      }
    },
    {
      "cell_type": "markdown",
      "metadata": {
        "id": "POiZVSfrpmRf"
      },
      "source": [
        "## Summary"
      ]
    },
    {
      "cell_type": "markdown",
      "metadata": {
        "id": "8mD3wYmpd_kH"
      },
      "source": [
        "- I fine-tuned a BERT model to get a 80% accuracy on the test set\n",
        "\n",
        "- To try to improve the model performance, one can try the following:\n",
        "    - increase the number of training epochs\n",
        "    - change the learning rate\n",
        "    - change the batch size\n",
        "    - use regularization techniques\n",
        "\n",
        "**Note**: The performance metric values may differ slightly on code execution due to the randomness in initializing the weights of the 'classifier' layer of the model."
      ]
    },
    {
      "cell_type": "markdown",
      "source": [
        "___"
      ],
      "metadata": {
        "id": "5QB5TnlXHa2t"
      }
    }
  ],
  "metadata": {
    "accelerator": "GPU",
    "colab": {
      "collapsed_sections": [
        "MjncuDf2qugI",
        "x9VSf2D_F5iU",
        "lJ6qUJ3EqxW2",
        "saFx1pbT_zTP",
        "tqfNqaJCQeEE",
        "fantastic-rebel",
        "vvlzvKeqAH-i",
        "cIH4md8nAL4v",
        "NuWYF7W_AQx_",
        "EBuO6NvsAT1k",
        "lIICk5hF_xW7",
        "kUJ_B5KxhU3D",
        "Yzi68_PYAlof",
        "akIOIRhfbvG8",
        "gnPICJ-WbvHD",
        "NR2gN_5CG4U-",
        "VJuID4s3BPXB",
        "ZCM6avoA39FB",
        "VqiWTT5PhcR8",
        "07a20WohZdI0",
        "f4lwYN5bYmHp",
        "n0zOSq9mieSG",
        "tOOFfQIWh3_G",
        "-8yTYp-yO_pc",
        "gmofDrtqO21p",
        "POiZVSfrpmRf"
      ],
      "provenance": [],
      "gpuType": "T4"
    },
    "kernelspec": {
      "display_name": "Python 3",
      "name": "python3"
    },
    "language_info": {
      "name": "python"
    },
    "widgets": {
      "application/vnd.jupyter.widget-state+json": {
        "a730db3eceba40f2a01022e1ca312286": {
          "model_module": "@jupyter-widgets/controls",
          "model_name": "HBoxModel",
          "model_module_version": "1.5.0",
          "state": {
            "_dom_classes": [],
            "_model_module": "@jupyter-widgets/controls",
            "_model_module_version": "1.5.0",
            "_model_name": "HBoxModel",
            "_view_count": null,
            "_view_module": "@jupyter-widgets/controls",
            "_view_module_version": "1.5.0",
            "_view_name": "HBoxView",
            "box_style": "",
            "children": [
              "IPY_MODEL_4778be9f69cd4046a43032a6e919709e",
              "IPY_MODEL_a6cd4b9bddb949468fd28ccd061dab76",
              "IPY_MODEL_7ec0cb71000b49988f53fb5ff3763a07"
            ],
            "layout": "IPY_MODEL_cf6a13182a61485bbdd5bcd04a577cc4"
          }
        },
        "4778be9f69cd4046a43032a6e919709e": {
          "model_module": "@jupyter-widgets/controls",
          "model_name": "HTMLModel",
          "model_module_version": "1.5.0",
          "state": {
            "_dom_classes": [],
            "_model_module": "@jupyter-widgets/controls",
            "_model_module_version": "1.5.0",
            "_model_name": "HTMLModel",
            "_view_count": null,
            "_view_module": "@jupyter-widgets/controls",
            "_view_module_version": "1.5.0",
            "_view_name": "HTMLView",
            "description": "",
            "description_tooltip": null,
            "layout": "IPY_MODEL_0b28a7a4c79d4ab381226e5f4e6c5d20",
            "placeholder": "​",
            "style": "IPY_MODEL_7a545df32fc343fe973491642bc590d7",
            "value": "tokenizer_config.json: 100%"
          }
        },
        "a6cd4b9bddb949468fd28ccd061dab76": {
          "model_module": "@jupyter-widgets/controls",
          "model_name": "FloatProgressModel",
          "model_module_version": "1.5.0",
          "state": {
            "_dom_classes": [],
            "_model_module": "@jupyter-widgets/controls",
            "_model_module_version": "1.5.0",
            "_model_name": "FloatProgressModel",
            "_view_count": null,
            "_view_module": "@jupyter-widgets/controls",
            "_view_module_version": "1.5.0",
            "_view_name": "ProgressView",
            "bar_style": "success",
            "description": "",
            "description_tooltip": null,
            "layout": "IPY_MODEL_39d089d806124117b098620a7b9bc70f",
            "max": 28,
            "min": 0,
            "orientation": "horizontal",
            "style": "IPY_MODEL_c6f9cd2dc43e4cd482cf96279d1673a6",
            "value": 28
          }
        },
        "7ec0cb71000b49988f53fb5ff3763a07": {
          "model_module": "@jupyter-widgets/controls",
          "model_name": "HTMLModel",
          "model_module_version": "1.5.0",
          "state": {
            "_dom_classes": [],
            "_model_module": "@jupyter-widgets/controls",
            "_model_module_version": "1.5.0",
            "_model_name": "HTMLModel",
            "_view_count": null,
            "_view_module": "@jupyter-widgets/controls",
            "_view_module_version": "1.5.0",
            "_view_name": "HTMLView",
            "description": "",
            "description_tooltip": null,
            "layout": "IPY_MODEL_ea020fa8b83c4709bdd199952e0656f8",
            "placeholder": "​",
            "style": "IPY_MODEL_c20375a3ea3b423c9e1693b9c325d66a",
            "value": " 28.0/28.0 [00:00&lt;00:00, 1.36kB/s]"
          }
        },
        "cf6a13182a61485bbdd5bcd04a577cc4": {
          "model_module": "@jupyter-widgets/base",
          "model_name": "LayoutModel",
          "model_module_version": "1.2.0",
          "state": {
            "_model_module": "@jupyter-widgets/base",
            "_model_module_version": "1.2.0",
            "_model_name": "LayoutModel",
            "_view_count": null,
            "_view_module": "@jupyter-widgets/base",
            "_view_module_version": "1.2.0",
            "_view_name": "LayoutView",
            "align_content": null,
            "align_items": null,
            "align_self": null,
            "border": null,
            "bottom": null,
            "display": null,
            "flex": null,
            "flex_flow": null,
            "grid_area": null,
            "grid_auto_columns": null,
            "grid_auto_flow": null,
            "grid_auto_rows": null,
            "grid_column": null,
            "grid_gap": null,
            "grid_row": null,
            "grid_template_areas": null,
            "grid_template_columns": null,
            "grid_template_rows": null,
            "height": null,
            "justify_content": null,
            "justify_items": null,
            "left": null,
            "margin": null,
            "max_height": null,
            "max_width": null,
            "min_height": null,
            "min_width": null,
            "object_fit": null,
            "object_position": null,
            "order": null,
            "overflow": null,
            "overflow_x": null,
            "overflow_y": null,
            "padding": null,
            "right": null,
            "top": null,
            "visibility": null,
            "width": null
          }
        },
        "0b28a7a4c79d4ab381226e5f4e6c5d20": {
          "model_module": "@jupyter-widgets/base",
          "model_name": "LayoutModel",
          "model_module_version": "1.2.0",
          "state": {
            "_model_module": "@jupyter-widgets/base",
            "_model_module_version": "1.2.0",
            "_model_name": "LayoutModel",
            "_view_count": null,
            "_view_module": "@jupyter-widgets/base",
            "_view_module_version": "1.2.0",
            "_view_name": "LayoutView",
            "align_content": null,
            "align_items": null,
            "align_self": null,
            "border": null,
            "bottom": null,
            "display": null,
            "flex": null,
            "flex_flow": null,
            "grid_area": null,
            "grid_auto_columns": null,
            "grid_auto_flow": null,
            "grid_auto_rows": null,
            "grid_column": null,
            "grid_gap": null,
            "grid_row": null,
            "grid_template_areas": null,
            "grid_template_columns": null,
            "grid_template_rows": null,
            "height": null,
            "justify_content": null,
            "justify_items": null,
            "left": null,
            "margin": null,
            "max_height": null,
            "max_width": null,
            "min_height": null,
            "min_width": null,
            "object_fit": null,
            "object_position": null,
            "order": null,
            "overflow": null,
            "overflow_x": null,
            "overflow_y": null,
            "padding": null,
            "right": null,
            "top": null,
            "visibility": null,
            "width": null
          }
        },
        "7a545df32fc343fe973491642bc590d7": {
          "model_module": "@jupyter-widgets/controls",
          "model_name": "DescriptionStyleModel",
          "model_module_version": "1.5.0",
          "state": {
            "_model_module": "@jupyter-widgets/controls",
            "_model_module_version": "1.5.0",
            "_model_name": "DescriptionStyleModel",
            "_view_count": null,
            "_view_module": "@jupyter-widgets/base",
            "_view_module_version": "1.2.0",
            "_view_name": "StyleView",
            "description_width": ""
          }
        },
        "39d089d806124117b098620a7b9bc70f": {
          "model_module": "@jupyter-widgets/base",
          "model_name": "LayoutModel",
          "model_module_version": "1.2.0",
          "state": {
            "_model_module": "@jupyter-widgets/base",
            "_model_module_version": "1.2.0",
            "_model_name": "LayoutModel",
            "_view_count": null,
            "_view_module": "@jupyter-widgets/base",
            "_view_module_version": "1.2.0",
            "_view_name": "LayoutView",
            "align_content": null,
            "align_items": null,
            "align_self": null,
            "border": null,
            "bottom": null,
            "display": null,
            "flex": null,
            "flex_flow": null,
            "grid_area": null,
            "grid_auto_columns": null,
            "grid_auto_flow": null,
            "grid_auto_rows": null,
            "grid_column": null,
            "grid_gap": null,
            "grid_row": null,
            "grid_template_areas": null,
            "grid_template_columns": null,
            "grid_template_rows": null,
            "height": null,
            "justify_content": null,
            "justify_items": null,
            "left": null,
            "margin": null,
            "max_height": null,
            "max_width": null,
            "min_height": null,
            "min_width": null,
            "object_fit": null,
            "object_position": null,
            "order": null,
            "overflow": null,
            "overflow_x": null,
            "overflow_y": null,
            "padding": null,
            "right": null,
            "top": null,
            "visibility": null,
            "width": null
          }
        },
        "c6f9cd2dc43e4cd482cf96279d1673a6": {
          "model_module": "@jupyter-widgets/controls",
          "model_name": "ProgressStyleModel",
          "model_module_version": "1.5.0",
          "state": {
            "_model_module": "@jupyter-widgets/controls",
            "_model_module_version": "1.5.0",
            "_model_name": "ProgressStyleModel",
            "_view_count": null,
            "_view_module": "@jupyter-widgets/base",
            "_view_module_version": "1.2.0",
            "_view_name": "StyleView",
            "bar_color": null,
            "description_width": ""
          }
        },
        "ea020fa8b83c4709bdd199952e0656f8": {
          "model_module": "@jupyter-widgets/base",
          "model_name": "LayoutModel",
          "model_module_version": "1.2.0",
          "state": {
            "_model_module": "@jupyter-widgets/base",
            "_model_module_version": "1.2.0",
            "_model_name": "LayoutModel",
            "_view_count": null,
            "_view_module": "@jupyter-widgets/base",
            "_view_module_version": "1.2.0",
            "_view_name": "LayoutView",
            "align_content": null,
            "align_items": null,
            "align_self": null,
            "border": null,
            "bottom": null,
            "display": null,
            "flex": null,
            "flex_flow": null,
            "grid_area": null,
            "grid_auto_columns": null,
            "grid_auto_flow": null,
            "grid_auto_rows": null,
            "grid_column": null,
            "grid_gap": null,
            "grid_row": null,
            "grid_template_areas": null,
            "grid_template_columns": null,
            "grid_template_rows": null,
            "height": null,
            "justify_content": null,
            "justify_items": null,
            "left": null,
            "margin": null,
            "max_height": null,
            "max_width": null,
            "min_height": null,
            "min_width": null,
            "object_fit": null,
            "object_position": null,
            "order": null,
            "overflow": null,
            "overflow_x": null,
            "overflow_y": null,
            "padding": null,
            "right": null,
            "top": null,
            "visibility": null,
            "width": null
          }
        },
        "c20375a3ea3b423c9e1693b9c325d66a": {
          "model_module": "@jupyter-widgets/controls",
          "model_name": "DescriptionStyleModel",
          "model_module_version": "1.5.0",
          "state": {
            "_model_module": "@jupyter-widgets/controls",
            "_model_module_version": "1.5.0",
            "_model_name": "DescriptionStyleModel",
            "_view_count": null,
            "_view_module": "@jupyter-widgets/base",
            "_view_module_version": "1.2.0",
            "_view_name": "StyleView",
            "description_width": ""
          }
        },
        "1af3e0a174aa4fc981e846eae3d23ce6": {
          "model_module": "@jupyter-widgets/controls",
          "model_name": "HBoxModel",
          "model_module_version": "1.5.0",
          "state": {
            "_dom_classes": [],
            "_model_module": "@jupyter-widgets/controls",
            "_model_module_version": "1.5.0",
            "_model_name": "HBoxModel",
            "_view_count": null,
            "_view_module": "@jupyter-widgets/controls",
            "_view_module_version": "1.5.0",
            "_view_name": "HBoxView",
            "box_style": "",
            "children": [
              "IPY_MODEL_ca5f84babc2f4f818994f060329f7a4d",
              "IPY_MODEL_66856ea8249146ae8d7304863d3b6d9e",
              "IPY_MODEL_9c131cfefc7c4e9ca577517ad04a676b"
            ],
            "layout": "IPY_MODEL_49c55af7f44e4d959423b8b78f38cd14"
          }
        },
        "ca5f84babc2f4f818994f060329f7a4d": {
          "model_module": "@jupyter-widgets/controls",
          "model_name": "HTMLModel",
          "model_module_version": "1.5.0",
          "state": {
            "_dom_classes": [],
            "_model_module": "@jupyter-widgets/controls",
            "_model_module_version": "1.5.0",
            "_model_name": "HTMLModel",
            "_view_count": null,
            "_view_module": "@jupyter-widgets/controls",
            "_view_module_version": "1.5.0",
            "_view_name": "HTMLView",
            "description": "",
            "description_tooltip": null,
            "layout": "IPY_MODEL_eb2fd93fedbe46caa29296d3338a3d24",
            "placeholder": "​",
            "style": "IPY_MODEL_7661f38282b642ec99dc06e0b5df788e",
            "value": "vocab.txt: 100%"
          }
        },
        "66856ea8249146ae8d7304863d3b6d9e": {
          "model_module": "@jupyter-widgets/controls",
          "model_name": "FloatProgressModel",
          "model_module_version": "1.5.0",
          "state": {
            "_dom_classes": [],
            "_model_module": "@jupyter-widgets/controls",
            "_model_module_version": "1.5.0",
            "_model_name": "FloatProgressModel",
            "_view_count": null,
            "_view_module": "@jupyter-widgets/controls",
            "_view_module_version": "1.5.0",
            "_view_name": "ProgressView",
            "bar_style": "success",
            "description": "",
            "description_tooltip": null,
            "layout": "IPY_MODEL_24a677cd8386430c99d6a35046d4bfc5",
            "max": 231508,
            "min": 0,
            "orientation": "horizontal",
            "style": "IPY_MODEL_ca114287ba9745728afbbe4c91825383",
            "value": 231508
          }
        },
        "9c131cfefc7c4e9ca577517ad04a676b": {
          "model_module": "@jupyter-widgets/controls",
          "model_name": "HTMLModel",
          "model_module_version": "1.5.0",
          "state": {
            "_dom_classes": [],
            "_model_module": "@jupyter-widgets/controls",
            "_model_module_version": "1.5.0",
            "_model_name": "HTMLModel",
            "_view_count": null,
            "_view_module": "@jupyter-widgets/controls",
            "_view_module_version": "1.5.0",
            "_view_name": "HTMLView",
            "description": "",
            "description_tooltip": null,
            "layout": "IPY_MODEL_833918e9d9414f009f828a6b059e427c",
            "placeholder": "​",
            "style": "IPY_MODEL_066207e7999a4e3b8f61831c8d26fc07",
            "value": " 232k/232k [00:00&lt;00:00, 2.71MB/s]"
          }
        },
        "49c55af7f44e4d959423b8b78f38cd14": {
          "model_module": "@jupyter-widgets/base",
          "model_name": "LayoutModel",
          "model_module_version": "1.2.0",
          "state": {
            "_model_module": "@jupyter-widgets/base",
            "_model_module_version": "1.2.0",
            "_model_name": "LayoutModel",
            "_view_count": null,
            "_view_module": "@jupyter-widgets/base",
            "_view_module_version": "1.2.0",
            "_view_name": "LayoutView",
            "align_content": null,
            "align_items": null,
            "align_self": null,
            "border": null,
            "bottom": null,
            "display": null,
            "flex": null,
            "flex_flow": null,
            "grid_area": null,
            "grid_auto_columns": null,
            "grid_auto_flow": null,
            "grid_auto_rows": null,
            "grid_column": null,
            "grid_gap": null,
            "grid_row": null,
            "grid_template_areas": null,
            "grid_template_columns": null,
            "grid_template_rows": null,
            "height": null,
            "justify_content": null,
            "justify_items": null,
            "left": null,
            "margin": null,
            "max_height": null,
            "max_width": null,
            "min_height": null,
            "min_width": null,
            "object_fit": null,
            "object_position": null,
            "order": null,
            "overflow": null,
            "overflow_x": null,
            "overflow_y": null,
            "padding": null,
            "right": null,
            "top": null,
            "visibility": null,
            "width": null
          }
        },
        "eb2fd93fedbe46caa29296d3338a3d24": {
          "model_module": "@jupyter-widgets/base",
          "model_name": "LayoutModel",
          "model_module_version": "1.2.0",
          "state": {
            "_model_module": "@jupyter-widgets/base",
            "_model_module_version": "1.2.0",
            "_model_name": "LayoutModel",
            "_view_count": null,
            "_view_module": "@jupyter-widgets/base",
            "_view_module_version": "1.2.0",
            "_view_name": "LayoutView",
            "align_content": null,
            "align_items": null,
            "align_self": null,
            "border": null,
            "bottom": null,
            "display": null,
            "flex": null,
            "flex_flow": null,
            "grid_area": null,
            "grid_auto_columns": null,
            "grid_auto_flow": null,
            "grid_auto_rows": null,
            "grid_column": null,
            "grid_gap": null,
            "grid_row": null,
            "grid_template_areas": null,
            "grid_template_columns": null,
            "grid_template_rows": null,
            "height": null,
            "justify_content": null,
            "justify_items": null,
            "left": null,
            "margin": null,
            "max_height": null,
            "max_width": null,
            "min_height": null,
            "min_width": null,
            "object_fit": null,
            "object_position": null,
            "order": null,
            "overflow": null,
            "overflow_x": null,
            "overflow_y": null,
            "padding": null,
            "right": null,
            "top": null,
            "visibility": null,
            "width": null
          }
        },
        "7661f38282b642ec99dc06e0b5df788e": {
          "model_module": "@jupyter-widgets/controls",
          "model_name": "DescriptionStyleModel",
          "model_module_version": "1.5.0",
          "state": {
            "_model_module": "@jupyter-widgets/controls",
            "_model_module_version": "1.5.0",
            "_model_name": "DescriptionStyleModel",
            "_view_count": null,
            "_view_module": "@jupyter-widgets/base",
            "_view_module_version": "1.2.0",
            "_view_name": "StyleView",
            "description_width": ""
          }
        },
        "24a677cd8386430c99d6a35046d4bfc5": {
          "model_module": "@jupyter-widgets/base",
          "model_name": "LayoutModel",
          "model_module_version": "1.2.0",
          "state": {
            "_model_module": "@jupyter-widgets/base",
            "_model_module_version": "1.2.0",
            "_model_name": "LayoutModel",
            "_view_count": null,
            "_view_module": "@jupyter-widgets/base",
            "_view_module_version": "1.2.0",
            "_view_name": "LayoutView",
            "align_content": null,
            "align_items": null,
            "align_self": null,
            "border": null,
            "bottom": null,
            "display": null,
            "flex": null,
            "flex_flow": null,
            "grid_area": null,
            "grid_auto_columns": null,
            "grid_auto_flow": null,
            "grid_auto_rows": null,
            "grid_column": null,
            "grid_gap": null,
            "grid_row": null,
            "grid_template_areas": null,
            "grid_template_columns": null,
            "grid_template_rows": null,
            "height": null,
            "justify_content": null,
            "justify_items": null,
            "left": null,
            "margin": null,
            "max_height": null,
            "max_width": null,
            "min_height": null,
            "min_width": null,
            "object_fit": null,
            "object_position": null,
            "order": null,
            "overflow": null,
            "overflow_x": null,
            "overflow_y": null,
            "padding": null,
            "right": null,
            "top": null,
            "visibility": null,
            "width": null
          }
        },
        "ca114287ba9745728afbbe4c91825383": {
          "model_module": "@jupyter-widgets/controls",
          "model_name": "ProgressStyleModel",
          "model_module_version": "1.5.0",
          "state": {
            "_model_module": "@jupyter-widgets/controls",
            "_model_module_version": "1.5.0",
            "_model_name": "ProgressStyleModel",
            "_view_count": null,
            "_view_module": "@jupyter-widgets/base",
            "_view_module_version": "1.2.0",
            "_view_name": "StyleView",
            "bar_color": null,
            "description_width": ""
          }
        },
        "833918e9d9414f009f828a6b059e427c": {
          "model_module": "@jupyter-widgets/base",
          "model_name": "LayoutModel",
          "model_module_version": "1.2.0",
          "state": {
            "_model_module": "@jupyter-widgets/base",
            "_model_module_version": "1.2.0",
            "_model_name": "LayoutModel",
            "_view_count": null,
            "_view_module": "@jupyter-widgets/base",
            "_view_module_version": "1.2.0",
            "_view_name": "LayoutView",
            "align_content": null,
            "align_items": null,
            "align_self": null,
            "border": null,
            "bottom": null,
            "display": null,
            "flex": null,
            "flex_flow": null,
            "grid_area": null,
            "grid_auto_columns": null,
            "grid_auto_flow": null,
            "grid_auto_rows": null,
            "grid_column": null,
            "grid_gap": null,
            "grid_row": null,
            "grid_template_areas": null,
            "grid_template_columns": null,
            "grid_template_rows": null,
            "height": null,
            "justify_content": null,
            "justify_items": null,
            "left": null,
            "margin": null,
            "max_height": null,
            "max_width": null,
            "min_height": null,
            "min_width": null,
            "object_fit": null,
            "object_position": null,
            "order": null,
            "overflow": null,
            "overflow_x": null,
            "overflow_y": null,
            "padding": null,
            "right": null,
            "top": null,
            "visibility": null,
            "width": null
          }
        },
        "066207e7999a4e3b8f61831c8d26fc07": {
          "model_module": "@jupyter-widgets/controls",
          "model_name": "DescriptionStyleModel",
          "model_module_version": "1.5.0",
          "state": {
            "_model_module": "@jupyter-widgets/controls",
            "_model_module_version": "1.5.0",
            "_model_name": "DescriptionStyleModel",
            "_view_count": null,
            "_view_module": "@jupyter-widgets/base",
            "_view_module_version": "1.2.0",
            "_view_name": "StyleView",
            "description_width": ""
          }
        },
        "7f9d5d1ef24248b593eef0f512f4b343": {
          "model_module": "@jupyter-widgets/controls",
          "model_name": "HBoxModel",
          "model_module_version": "1.5.0",
          "state": {
            "_dom_classes": [],
            "_model_module": "@jupyter-widgets/controls",
            "_model_module_version": "1.5.0",
            "_model_name": "HBoxModel",
            "_view_count": null,
            "_view_module": "@jupyter-widgets/controls",
            "_view_module_version": "1.5.0",
            "_view_name": "HBoxView",
            "box_style": "",
            "children": [
              "IPY_MODEL_bb1b1a77da804808ac5288f810688550",
              "IPY_MODEL_73b43fe317c445c39b1fd04d21ca2453",
              "IPY_MODEL_048bad03bcb542e9a2f8b1445b3e8166"
            ],
            "layout": "IPY_MODEL_d6a0b60d07fc4e8ea49a66f27b181f00"
          }
        },
        "bb1b1a77da804808ac5288f810688550": {
          "model_module": "@jupyter-widgets/controls",
          "model_name": "HTMLModel",
          "model_module_version": "1.5.0",
          "state": {
            "_dom_classes": [],
            "_model_module": "@jupyter-widgets/controls",
            "_model_module_version": "1.5.0",
            "_model_name": "HTMLModel",
            "_view_count": null,
            "_view_module": "@jupyter-widgets/controls",
            "_view_module_version": "1.5.0",
            "_view_name": "HTMLView",
            "description": "",
            "description_tooltip": null,
            "layout": "IPY_MODEL_722301ea1d9b4dd3ba1d892057e5fc2b",
            "placeholder": "​",
            "style": "IPY_MODEL_42c20f76c7e048ad96f174e8550638da",
            "value": "tokenizer.json: 100%"
          }
        },
        "73b43fe317c445c39b1fd04d21ca2453": {
          "model_module": "@jupyter-widgets/controls",
          "model_name": "FloatProgressModel",
          "model_module_version": "1.5.0",
          "state": {
            "_dom_classes": [],
            "_model_module": "@jupyter-widgets/controls",
            "_model_module_version": "1.5.0",
            "_model_name": "FloatProgressModel",
            "_view_count": null,
            "_view_module": "@jupyter-widgets/controls",
            "_view_module_version": "1.5.0",
            "_view_name": "ProgressView",
            "bar_style": "success",
            "description": "",
            "description_tooltip": null,
            "layout": "IPY_MODEL_766a4542828241ebaf3df61b53859527",
            "max": 466062,
            "min": 0,
            "orientation": "horizontal",
            "style": "IPY_MODEL_025442b7076a4bd6bdd2dedfbaa096dd",
            "value": 466062
          }
        },
        "048bad03bcb542e9a2f8b1445b3e8166": {
          "model_module": "@jupyter-widgets/controls",
          "model_name": "HTMLModel",
          "model_module_version": "1.5.0",
          "state": {
            "_dom_classes": [],
            "_model_module": "@jupyter-widgets/controls",
            "_model_module_version": "1.5.0",
            "_model_name": "HTMLModel",
            "_view_count": null,
            "_view_module": "@jupyter-widgets/controls",
            "_view_module_version": "1.5.0",
            "_view_name": "HTMLView",
            "description": "",
            "description_tooltip": null,
            "layout": "IPY_MODEL_2e5b10698c7b4b2e8babfd98ba75c4cb",
            "placeholder": "​",
            "style": "IPY_MODEL_62f80975178a4668be256ebf5f1ce359",
            "value": " 466k/466k [00:00&lt;00:00, 8.44MB/s]"
          }
        },
        "d6a0b60d07fc4e8ea49a66f27b181f00": {
          "model_module": "@jupyter-widgets/base",
          "model_name": "LayoutModel",
          "model_module_version": "1.2.0",
          "state": {
            "_model_module": "@jupyter-widgets/base",
            "_model_module_version": "1.2.0",
            "_model_name": "LayoutModel",
            "_view_count": null,
            "_view_module": "@jupyter-widgets/base",
            "_view_module_version": "1.2.0",
            "_view_name": "LayoutView",
            "align_content": null,
            "align_items": null,
            "align_self": null,
            "border": null,
            "bottom": null,
            "display": null,
            "flex": null,
            "flex_flow": null,
            "grid_area": null,
            "grid_auto_columns": null,
            "grid_auto_flow": null,
            "grid_auto_rows": null,
            "grid_column": null,
            "grid_gap": null,
            "grid_row": null,
            "grid_template_areas": null,
            "grid_template_columns": null,
            "grid_template_rows": null,
            "height": null,
            "justify_content": null,
            "justify_items": null,
            "left": null,
            "margin": null,
            "max_height": null,
            "max_width": null,
            "min_height": null,
            "min_width": null,
            "object_fit": null,
            "object_position": null,
            "order": null,
            "overflow": null,
            "overflow_x": null,
            "overflow_y": null,
            "padding": null,
            "right": null,
            "top": null,
            "visibility": null,
            "width": null
          }
        },
        "722301ea1d9b4dd3ba1d892057e5fc2b": {
          "model_module": "@jupyter-widgets/base",
          "model_name": "LayoutModel",
          "model_module_version": "1.2.0",
          "state": {
            "_model_module": "@jupyter-widgets/base",
            "_model_module_version": "1.2.0",
            "_model_name": "LayoutModel",
            "_view_count": null,
            "_view_module": "@jupyter-widgets/base",
            "_view_module_version": "1.2.0",
            "_view_name": "LayoutView",
            "align_content": null,
            "align_items": null,
            "align_self": null,
            "border": null,
            "bottom": null,
            "display": null,
            "flex": null,
            "flex_flow": null,
            "grid_area": null,
            "grid_auto_columns": null,
            "grid_auto_flow": null,
            "grid_auto_rows": null,
            "grid_column": null,
            "grid_gap": null,
            "grid_row": null,
            "grid_template_areas": null,
            "grid_template_columns": null,
            "grid_template_rows": null,
            "height": null,
            "justify_content": null,
            "justify_items": null,
            "left": null,
            "margin": null,
            "max_height": null,
            "max_width": null,
            "min_height": null,
            "min_width": null,
            "object_fit": null,
            "object_position": null,
            "order": null,
            "overflow": null,
            "overflow_x": null,
            "overflow_y": null,
            "padding": null,
            "right": null,
            "top": null,
            "visibility": null,
            "width": null
          }
        },
        "42c20f76c7e048ad96f174e8550638da": {
          "model_module": "@jupyter-widgets/controls",
          "model_name": "DescriptionStyleModel",
          "model_module_version": "1.5.0",
          "state": {
            "_model_module": "@jupyter-widgets/controls",
            "_model_module_version": "1.5.0",
            "_model_name": "DescriptionStyleModel",
            "_view_count": null,
            "_view_module": "@jupyter-widgets/base",
            "_view_module_version": "1.2.0",
            "_view_name": "StyleView",
            "description_width": ""
          }
        },
        "766a4542828241ebaf3df61b53859527": {
          "model_module": "@jupyter-widgets/base",
          "model_name": "LayoutModel",
          "model_module_version": "1.2.0",
          "state": {
            "_model_module": "@jupyter-widgets/base",
            "_model_module_version": "1.2.0",
            "_model_name": "LayoutModel",
            "_view_count": null,
            "_view_module": "@jupyter-widgets/base",
            "_view_module_version": "1.2.0",
            "_view_name": "LayoutView",
            "align_content": null,
            "align_items": null,
            "align_self": null,
            "border": null,
            "bottom": null,
            "display": null,
            "flex": null,
            "flex_flow": null,
            "grid_area": null,
            "grid_auto_columns": null,
            "grid_auto_flow": null,
            "grid_auto_rows": null,
            "grid_column": null,
            "grid_gap": null,
            "grid_row": null,
            "grid_template_areas": null,
            "grid_template_columns": null,
            "grid_template_rows": null,
            "height": null,
            "justify_content": null,
            "justify_items": null,
            "left": null,
            "margin": null,
            "max_height": null,
            "max_width": null,
            "min_height": null,
            "min_width": null,
            "object_fit": null,
            "object_position": null,
            "order": null,
            "overflow": null,
            "overflow_x": null,
            "overflow_y": null,
            "padding": null,
            "right": null,
            "top": null,
            "visibility": null,
            "width": null
          }
        },
        "025442b7076a4bd6bdd2dedfbaa096dd": {
          "model_module": "@jupyter-widgets/controls",
          "model_name": "ProgressStyleModel",
          "model_module_version": "1.5.0",
          "state": {
            "_model_module": "@jupyter-widgets/controls",
            "_model_module_version": "1.5.0",
            "_model_name": "ProgressStyleModel",
            "_view_count": null,
            "_view_module": "@jupyter-widgets/base",
            "_view_module_version": "1.2.0",
            "_view_name": "StyleView",
            "bar_color": null,
            "description_width": ""
          }
        },
        "2e5b10698c7b4b2e8babfd98ba75c4cb": {
          "model_module": "@jupyter-widgets/base",
          "model_name": "LayoutModel",
          "model_module_version": "1.2.0",
          "state": {
            "_model_module": "@jupyter-widgets/base",
            "_model_module_version": "1.2.0",
            "_model_name": "LayoutModel",
            "_view_count": null,
            "_view_module": "@jupyter-widgets/base",
            "_view_module_version": "1.2.0",
            "_view_name": "LayoutView",
            "align_content": null,
            "align_items": null,
            "align_self": null,
            "border": null,
            "bottom": null,
            "display": null,
            "flex": null,
            "flex_flow": null,
            "grid_area": null,
            "grid_auto_columns": null,
            "grid_auto_flow": null,
            "grid_auto_rows": null,
            "grid_column": null,
            "grid_gap": null,
            "grid_row": null,
            "grid_template_areas": null,
            "grid_template_columns": null,
            "grid_template_rows": null,
            "height": null,
            "justify_content": null,
            "justify_items": null,
            "left": null,
            "margin": null,
            "max_height": null,
            "max_width": null,
            "min_height": null,
            "min_width": null,
            "object_fit": null,
            "object_position": null,
            "order": null,
            "overflow": null,
            "overflow_x": null,
            "overflow_y": null,
            "padding": null,
            "right": null,
            "top": null,
            "visibility": null,
            "width": null
          }
        },
        "62f80975178a4668be256ebf5f1ce359": {
          "model_module": "@jupyter-widgets/controls",
          "model_name": "DescriptionStyleModel",
          "model_module_version": "1.5.0",
          "state": {
            "_model_module": "@jupyter-widgets/controls",
            "_model_module_version": "1.5.0",
            "_model_name": "DescriptionStyleModel",
            "_view_count": null,
            "_view_module": "@jupyter-widgets/base",
            "_view_module_version": "1.2.0",
            "_view_name": "StyleView",
            "description_width": ""
          }
        },
        "72baf3d52a7244f3b6fcf086c40b753e": {
          "model_module": "@jupyter-widgets/controls",
          "model_name": "HBoxModel",
          "model_module_version": "1.5.0",
          "state": {
            "_dom_classes": [],
            "_model_module": "@jupyter-widgets/controls",
            "_model_module_version": "1.5.0",
            "_model_name": "HBoxModel",
            "_view_count": null,
            "_view_module": "@jupyter-widgets/controls",
            "_view_module_version": "1.5.0",
            "_view_name": "HBoxView",
            "box_style": "",
            "children": [
              "IPY_MODEL_a05ae2ec97554251ace95601a8019c7c",
              "IPY_MODEL_6eaccbd20fd547bf92dbc605f68ee2b3",
              "IPY_MODEL_1375e5a921ab4ce19f7401829c64573d"
            ],
            "layout": "IPY_MODEL_0a6e4343903c4d0c8701a45a6ee8cdef"
          }
        },
        "a05ae2ec97554251ace95601a8019c7c": {
          "model_module": "@jupyter-widgets/controls",
          "model_name": "HTMLModel",
          "model_module_version": "1.5.0",
          "state": {
            "_dom_classes": [],
            "_model_module": "@jupyter-widgets/controls",
            "_model_module_version": "1.5.0",
            "_model_name": "HTMLModel",
            "_view_count": null,
            "_view_module": "@jupyter-widgets/controls",
            "_view_module_version": "1.5.0",
            "_view_name": "HTMLView",
            "description": "",
            "description_tooltip": null,
            "layout": "IPY_MODEL_7573da24538c445f8d2c94a29c5379ec",
            "placeholder": "​",
            "style": "IPY_MODEL_a6298e83adab40cc80596f3cdb25e7e5",
            "value": "config.json: 100%"
          }
        },
        "6eaccbd20fd547bf92dbc605f68ee2b3": {
          "model_module": "@jupyter-widgets/controls",
          "model_name": "FloatProgressModel",
          "model_module_version": "1.5.0",
          "state": {
            "_dom_classes": [],
            "_model_module": "@jupyter-widgets/controls",
            "_model_module_version": "1.5.0",
            "_model_name": "FloatProgressModel",
            "_view_count": null,
            "_view_module": "@jupyter-widgets/controls",
            "_view_module_version": "1.5.0",
            "_view_name": "ProgressView",
            "bar_style": "success",
            "description": "",
            "description_tooltip": null,
            "layout": "IPY_MODEL_343ffe9948aa4b299ea7163ebfd258bc",
            "max": 570,
            "min": 0,
            "orientation": "horizontal",
            "style": "IPY_MODEL_88f311da14c04166a8ccfdeee3d7583f",
            "value": 570
          }
        },
        "1375e5a921ab4ce19f7401829c64573d": {
          "model_module": "@jupyter-widgets/controls",
          "model_name": "HTMLModel",
          "model_module_version": "1.5.0",
          "state": {
            "_dom_classes": [],
            "_model_module": "@jupyter-widgets/controls",
            "_model_module_version": "1.5.0",
            "_model_name": "HTMLModel",
            "_view_count": null,
            "_view_module": "@jupyter-widgets/controls",
            "_view_module_version": "1.5.0",
            "_view_name": "HTMLView",
            "description": "",
            "description_tooltip": null,
            "layout": "IPY_MODEL_0afd0fc3a4594bd58388f4761dbf6436",
            "placeholder": "​",
            "style": "IPY_MODEL_52125190d19a468ca0e94c050112ea45",
            "value": " 570/570 [00:00&lt;00:00, 44.8kB/s]"
          }
        },
        "0a6e4343903c4d0c8701a45a6ee8cdef": {
          "model_module": "@jupyter-widgets/base",
          "model_name": "LayoutModel",
          "model_module_version": "1.2.0",
          "state": {
            "_model_module": "@jupyter-widgets/base",
            "_model_module_version": "1.2.0",
            "_model_name": "LayoutModel",
            "_view_count": null,
            "_view_module": "@jupyter-widgets/base",
            "_view_module_version": "1.2.0",
            "_view_name": "LayoutView",
            "align_content": null,
            "align_items": null,
            "align_self": null,
            "border": null,
            "bottom": null,
            "display": null,
            "flex": null,
            "flex_flow": null,
            "grid_area": null,
            "grid_auto_columns": null,
            "grid_auto_flow": null,
            "grid_auto_rows": null,
            "grid_column": null,
            "grid_gap": null,
            "grid_row": null,
            "grid_template_areas": null,
            "grid_template_columns": null,
            "grid_template_rows": null,
            "height": null,
            "justify_content": null,
            "justify_items": null,
            "left": null,
            "margin": null,
            "max_height": null,
            "max_width": null,
            "min_height": null,
            "min_width": null,
            "object_fit": null,
            "object_position": null,
            "order": null,
            "overflow": null,
            "overflow_x": null,
            "overflow_y": null,
            "padding": null,
            "right": null,
            "top": null,
            "visibility": null,
            "width": null
          }
        },
        "7573da24538c445f8d2c94a29c5379ec": {
          "model_module": "@jupyter-widgets/base",
          "model_name": "LayoutModel",
          "model_module_version": "1.2.0",
          "state": {
            "_model_module": "@jupyter-widgets/base",
            "_model_module_version": "1.2.0",
            "_model_name": "LayoutModel",
            "_view_count": null,
            "_view_module": "@jupyter-widgets/base",
            "_view_module_version": "1.2.0",
            "_view_name": "LayoutView",
            "align_content": null,
            "align_items": null,
            "align_self": null,
            "border": null,
            "bottom": null,
            "display": null,
            "flex": null,
            "flex_flow": null,
            "grid_area": null,
            "grid_auto_columns": null,
            "grid_auto_flow": null,
            "grid_auto_rows": null,
            "grid_column": null,
            "grid_gap": null,
            "grid_row": null,
            "grid_template_areas": null,
            "grid_template_columns": null,
            "grid_template_rows": null,
            "height": null,
            "justify_content": null,
            "justify_items": null,
            "left": null,
            "margin": null,
            "max_height": null,
            "max_width": null,
            "min_height": null,
            "min_width": null,
            "object_fit": null,
            "object_position": null,
            "order": null,
            "overflow": null,
            "overflow_x": null,
            "overflow_y": null,
            "padding": null,
            "right": null,
            "top": null,
            "visibility": null,
            "width": null
          }
        },
        "a6298e83adab40cc80596f3cdb25e7e5": {
          "model_module": "@jupyter-widgets/controls",
          "model_name": "DescriptionStyleModel",
          "model_module_version": "1.5.0",
          "state": {
            "_model_module": "@jupyter-widgets/controls",
            "_model_module_version": "1.5.0",
            "_model_name": "DescriptionStyleModel",
            "_view_count": null,
            "_view_module": "@jupyter-widgets/base",
            "_view_module_version": "1.2.0",
            "_view_name": "StyleView",
            "description_width": ""
          }
        },
        "343ffe9948aa4b299ea7163ebfd258bc": {
          "model_module": "@jupyter-widgets/base",
          "model_name": "LayoutModel",
          "model_module_version": "1.2.0",
          "state": {
            "_model_module": "@jupyter-widgets/base",
            "_model_module_version": "1.2.0",
            "_model_name": "LayoutModel",
            "_view_count": null,
            "_view_module": "@jupyter-widgets/base",
            "_view_module_version": "1.2.0",
            "_view_name": "LayoutView",
            "align_content": null,
            "align_items": null,
            "align_self": null,
            "border": null,
            "bottom": null,
            "display": null,
            "flex": null,
            "flex_flow": null,
            "grid_area": null,
            "grid_auto_columns": null,
            "grid_auto_flow": null,
            "grid_auto_rows": null,
            "grid_column": null,
            "grid_gap": null,
            "grid_row": null,
            "grid_template_areas": null,
            "grid_template_columns": null,
            "grid_template_rows": null,
            "height": null,
            "justify_content": null,
            "justify_items": null,
            "left": null,
            "margin": null,
            "max_height": null,
            "max_width": null,
            "min_height": null,
            "min_width": null,
            "object_fit": null,
            "object_position": null,
            "order": null,
            "overflow": null,
            "overflow_x": null,
            "overflow_y": null,
            "padding": null,
            "right": null,
            "top": null,
            "visibility": null,
            "width": null
          }
        },
        "88f311da14c04166a8ccfdeee3d7583f": {
          "model_module": "@jupyter-widgets/controls",
          "model_name": "ProgressStyleModel",
          "model_module_version": "1.5.0",
          "state": {
            "_model_module": "@jupyter-widgets/controls",
            "_model_module_version": "1.5.0",
            "_model_name": "ProgressStyleModel",
            "_view_count": null,
            "_view_module": "@jupyter-widgets/base",
            "_view_module_version": "1.2.0",
            "_view_name": "StyleView",
            "bar_color": null,
            "description_width": ""
          }
        },
        "0afd0fc3a4594bd58388f4761dbf6436": {
          "model_module": "@jupyter-widgets/base",
          "model_name": "LayoutModel",
          "model_module_version": "1.2.0",
          "state": {
            "_model_module": "@jupyter-widgets/base",
            "_model_module_version": "1.2.0",
            "_model_name": "LayoutModel",
            "_view_count": null,
            "_view_module": "@jupyter-widgets/base",
            "_view_module_version": "1.2.0",
            "_view_name": "LayoutView",
            "align_content": null,
            "align_items": null,
            "align_self": null,
            "border": null,
            "bottom": null,
            "display": null,
            "flex": null,
            "flex_flow": null,
            "grid_area": null,
            "grid_auto_columns": null,
            "grid_auto_flow": null,
            "grid_auto_rows": null,
            "grid_column": null,
            "grid_gap": null,
            "grid_row": null,
            "grid_template_areas": null,
            "grid_template_columns": null,
            "grid_template_rows": null,
            "height": null,
            "justify_content": null,
            "justify_items": null,
            "left": null,
            "margin": null,
            "max_height": null,
            "max_width": null,
            "min_height": null,
            "min_width": null,
            "object_fit": null,
            "object_position": null,
            "order": null,
            "overflow": null,
            "overflow_x": null,
            "overflow_y": null,
            "padding": null,
            "right": null,
            "top": null,
            "visibility": null,
            "width": null
          }
        },
        "52125190d19a468ca0e94c050112ea45": {
          "model_module": "@jupyter-widgets/controls",
          "model_name": "DescriptionStyleModel",
          "model_module_version": "1.5.0",
          "state": {
            "_model_module": "@jupyter-widgets/controls",
            "_model_module_version": "1.5.0",
            "_model_name": "DescriptionStyleModel",
            "_view_count": null,
            "_view_module": "@jupyter-widgets/base",
            "_view_module_version": "1.2.0",
            "_view_name": "StyleView",
            "description_width": ""
          }
        },
        "878e15cfb9f34df2a35bee0079f19f42": {
          "model_module": "@jupyter-widgets/controls",
          "model_name": "HBoxModel",
          "model_module_version": "1.5.0",
          "state": {
            "_dom_classes": [],
            "_model_module": "@jupyter-widgets/controls",
            "_model_module_version": "1.5.0",
            "_model_name": "HBoxModel",
            "_view_count": null,
            "_view_module": "@jupyter-widgets/controls",
            "_view_module_version": "1.5.0",
            "_view_name": "HBoxView",
            "box_style": "",
            "children": [
              "IPY_MODEL_d6601b83a90c4477abd5600b4adb4fc4",
              "IPY_MODEL_7cd9bb54632745fca310a381d191a690",
              "IPY_MODEL_67cd9f79f1514de6961424451f3f7f0c"
            ],
            "layout": "IPY_MODEL_50e54954a4ed45368a868f1033781000"
          }
        },
        "d6601b83a90c4477abd5600b4adb4fc4": {
          "model_module": "@jupyter-widgets/controls",
          "model_name": "HTMLModel",
          "model_module_version": "1.5.0",
          "state": {
            "_dom_classes": [],
            "_model_module": "@jupyter-widgets/controls",
            "_model_module_version": "1.5.0",
            "_model_name": "HTMLModel",
            "_view_count": null,
            "_view_module": "@jupyter-widgets/controls",
            "_view_module_version": "1.5.0",
            "_view_name": "HTMLView",
            "description": "",
            "description_tooltip": null,
            "layout": "IPY_MODEL_6b44a8f6806d414890c4af374d76e5f4",
            "placeholder": "​",
            "style": "IPY_MODEL_c24b97d3b7fa4272ade14338f30f2220",
            "value": "pytorch_model.bin: 100%"
          }
        },
        "7cd9bb54632745fca310a381d191a690": {
          "model_module": "@jupyter-widgets/controls",
          "model_name": "FloatProgressModel",
          "model_module_version": "1.5.0",
          "state": {
            "_dom_classes": [],
            "_model_module": "@jupyter-widgets/controls",
            "_model_module_version": "1.5.0",
            "_model_name": "FloatProgressModel",
            "_view_count": null,
            "_view_module": "@jupyter-widgets/controls",
            "_view_module_version": "1.5.0",
            "_view_name": "ProgressView",
            "bar_style": "success",
            "description": "",
            "description_tooltip": null,
            "layout": "IPY_MODEL_1431927573c24d94b06efcda6696c264",
            "max": 440473133,
            "min": 0,
            "orientation": "horizontal",
            "style": "IPY_MODEL_26b075a468624fa6b595e8a2b3e97a71",
            "value": 440473133
          }
        },
        "67cd9f79f1514de6961424451f3f7f0c": {
          "model_module": "@jupyter-widgets/controls",
          "model_name": "HTMLModel",
          "model_module_version": "1.5.0",
          "state": {
            "_dom_classes": [],
            "_model_module": "@jupyter-widgets/controls",
            "_model_module_version": "1.5.0",
            "_model_name": "HTMLModel",
            "_view_count": null,
            "_view_module": "@jupyter-widgets/controls",
            "_view_module_version": "1.5.0",
            "_view_name": "HTMLView",
            "description": "",
            "description_tooltip": null,
            "layout": "IPY_MODEL_e4223d9b2c2c4afd82b8ae69ccd71c81",
            "placeholder": "​",
            "style": "IPY_MODEL_abfca64ba87f457f8c5720ffb1cfc342",
            "value": " 440M/440M [00:03&lt;00:00, 138MB/s]"
          }
        },
        "50e54954a4ed45368a868f1033781000": {
          "model_module": "@jupyter-widgets/base",
          "model_name": "LayoutModel",
          "model_module_version": "1.2.0",
          "state": {
            "_model_module": "@jupyter-widgets/base",
            "_model_module_version": "1.2.0",
            "_model_name": "LayoutModel",
            "_view_count": null,
            "_view_module": "@jupyter-widgets/base",
            "_view_module_version": "1.2.0",
            "_view_name": "LayoutView",
            "align_content": null,
            "align_items": null,
            "align_self": null,
            "border": null,
            "bottom": null,
            "display": null,
            "flex": null,
            "flex_flow": null,
            "grid_area": null,
            "grid_auto_columns": null,
            "grid_auto_flow": null,
            "grid_auto_rows": null,
            "grid_column": null,
            "grid_gap": null,
            "grid_row": null,
            "grid_template_areas": null,
            "grid_template_columns": null,
            "grid_template_rows": null,
            "height": null,
            "justify_content": null,
            "justify_items": null,
            "left": null,
            "margin": null,
            "max_height": null,
            "max_width": null,
            "min_height": null,
            "min_width": null,
            "object_fit": null,
            "object_position": null,
            "order": null,
            "overflow": null,
            "overflow_x": null,
            "overflow_y": null,
            "padding": null,
            "right": null,
            "top": null,
            "visibility": null,
            "width": null
          }
        },
        "6b44a8f6806d414890c4af374d76e5f4": {
          "model_module": "@jupyter-widgets/base",
          "model_name": "LayoutModel",
          "model_module_version": "1.2.0",
          "state": {
            "_model_module": "@jupyter-widgets/base",
            "_model_module_version": "1.2.0",
            "_model_name": "LayoutModel",
            "_view_count": null,
            "_view_module": "@jupyter-widgets/base",
            "_view_module_version": "1.2.0",
            "_view_name": "LayoutView",
            "align_content": null,
            "align_items": null,
            "align_self": null,
            "border": null,
            "bottom": null,
            "display": null,
            "flex": null,
            "flex_flow": null,
            "grid_area": null,
            "grid_auto_columns": null,
            "grid_auto_flow": null,
            "grid_auto_rows": null,
            "grid_column": null,
            "grid_gap": null,
            "grid_row": null,
            "grid_template_areas": null,
            "grid_template_columns": null,
            "grid_template_rows": null,
            "height": null,
            "justify_content": null,
            "justify_items": null,
            "left": null,
            "margin": null,
            "max_height": null,
            "max_width": null,
            "min_height": null,
            "min_width": null,
            "object_fit": null,
            "object_position": null,
            "order": null,
            "overflow": null,
            "overflow_x": null,
            "overflow_y": null,
            "padding": null,
            "right": null,
            "top": null,
            "visibility": null,
            "width": null
          }
        },
        "c24b97d3b7fa4272ade14338f30f2220": {
          "model_module": "@jupyter-widgets/controls",
          "model_name": "DescriptionStyleModel",
          "model_module_version": "1.5.0",
          "state": {
            "_model_module": "@jupyter-widgets/controls",
            "_model_module_version": "1.5.0",
            "_model_name": "DescriptionStyleModel",
            "_view_count": null,
            "_view_module": "@jupyter-widgets/base",
            "_view_module_version": "1.2.0",
            "_view_name": "StyleView",
            "description_width": ""
          }
        },
        "1431927573c24d94b06efcda6696c264": {
          "model_module": "@jupyter-widgets/base",
          "model_name": "LayoutModel",
          "model_module_version": "1.2.0",
          "state": {
            "_model_module": "@jupyter-widgets/base",
            "_model_module_version": "1.2.0",
            "_model_name": "LayoutModel",
            "_view_count": null,
            "_view_module": "@jupyter-widgets/base",
            "_view_module_version": "1.2.0",
            "_view_name": "LayoutView",
            "align_content": null,
            "align_items": null,
            "align_self": null,
            "border": null,
            "bottom": null,
            "display": null,
            "flex": null,
            "flex_flow": null,
            "grid_area": null,
            "grid_auto_columns": null,
            "grid_auto_flow": null,
            "grid_auto_rows": null,
            "grid_column": null,
            "grid_gap": null,
            "grid_row": null,
            "grid_template_areas": null,
            "grid_template_columns": null,
            "grid_template_rows": null,
            "height": null,
            "justify_content": null,
            "justify_items": null,
            "left": null,
            "margin": null,
            "max_height": null,
            "max_width": null,
            "min_height": null,
            "min_width": null,
            "object_fit": null,
            "object_position": null,
            "order": null,
            "overflow": null,
            "overflow_x": null,
            "overflow_y": null,
            "padding": null,
            "right": null,
            "top": null,
            "visibility": null,
            "width": null
          }
        },
        "26b075a468624fa6b595e8a2b3e97a71": {
          "model_module": "@jupyter-widgets/controls",
          "model_name": "ProgressStyleModel",
          "model_module_version": "1.5.0",
          "state": {
            "_model_module": "@jupyter-widgets/controls",
            "_model_module_version": "1.5.0",
            "_model_name": "ProgressStyleModel",
            "_view_count": null,
            "_view_module": "@jupyter-widgets/base",
            "_view_module_version": "1.2.0",
            "_view_name": "StyleView",
            "bar_color": null,
            "description_width": ""
          }
        },
        "e4223d9b2c2c4afd82b8ae69ccd71c81": {
          "model_module": "@jupyter-widgets/base",
          "model_name": "LayoutModel",
          "model_module_version": "1.2.0",
          "state": {
            "_model_module": "@jupyter-widgets/base",
            "_model_module_version": "1.2.0",
            "_model_name": "LayoutModel",
            "_view_count": null,
            "_view_module": "@jupyter-widgets/base",
            "_view_module_version": "1.2.0",
            "_view_name": "LayoutView",
            "align_content": null,
            "align_items": null,
            "align_self": null,
            "border": null,
            "bottom": null,
            "display": null,
            "flex": null,
            "flex_flow": null,
            "grid_area": null,
            "grid_auto_columns": null,
            "grid_auto_flow": null,
            "grid_auto_rows": null,
            "grid_column": null,
            "grid_gap": null,
            "grid_row": null,
            "grid_template_areas": null,
            "grid_template_columns": null,
            "grid_template_rows": null,
            "height": null,
            "justify_content": null,
            "justify_items": null,
            "left": null,
            "margin": null,
            "max_height": null,
            "max_width": null,
            "min_height": null,
            "min_width": null,
            "object_fit": null,
            "object_position": null,
            "order": null,
            "overflow": null,
            "overflow_x": null,
            "overflow_y": null,
            "padding": null,
            "right": null,
            "top": null,
            "visibility": null,
            "width": null
          }
        },
        "abfca64ba87f457f8c5720ffb1cfc342": {
          "model_module": "@jupyter-widgets/controls",
          "model_name": "DescriptionStyleModel",
          "model_module_version": "1.5.0",
          "state": {
            "_model_module": "@jupyter-widgets/controls",
            "_model_module_version": "1.5.0",
            "_model_name": "DescriptionStyleModel",
            "_view_count": null,
            "_view_module": "@jupyter-widgets/base",
            "_view_module_version": "1.2.0",
            "_view_name": "StyleView",
            "description_width": ""
          }
        }
      }
    }
  },
  "nbformat": 4,
  "nbformat_minor": 0
}